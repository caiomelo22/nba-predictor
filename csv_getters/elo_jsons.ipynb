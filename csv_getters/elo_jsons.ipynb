{
 "cells": [
  {
   "cell_type": "code",
   "execution_count": 6,
   "id": "02bc7a17",
   "metadata": {},
   "outputs": [],
   "source": [
    "from nba_api.stats.static import teams \n",
    "import urllib.request\n",
    "import json\n",
    "import os\n",
    "import datetime"
   ]
  },
  {
   "cell_type": "code",
   "execution_count": 7,
   "id": "ef597b89",
   "metadata": {},
   "outputs": [],
   "source": [
    "now = datetime.datetime.now()"
   ]
  },
  {
   "cell_type": "code",
   "execution_count": 25,
   "id": "e4a2ce06",
   "metadata": {},
   "outputs": [
    {
     "name": "stdout",
     "output_type": "stream",
     "text": [
      "Nov 6, 2022\n"
     ]
    }
   ],
   "source": [
    "date_test = (now + datetime.timedelta(days=10)).strftime(\"%b %d, %Y\").replace(' 0', ' ')\n",
    "print(date_test)"
   ]
  },
  {
   "cell_type": "code",
   "execution_count": 26,
   "id": "df4c4919",
   "metadata": {},
   "outputs": [
    {
     "name": "stdout",
     "output_type": "stream",
     "text": [
      "2022-11-06 00:00:00\n"
     ]
    }
   ],
   "source": [
    "date_converted = datetime.datetime.strptime(date_test, '%b %d, %Y')\n",
    "print(date_converted)"
   ]
  },
  {
   "cell_type": "code",
   "execution_count": 27,
   "id": "dc5f56f5",
   "metadata": {},
   "outputs": [],
   "source": [
    "def get_team_elo_json(team):\n",
    "    team = team.lower().replace(\" \", \"\")\n",
    "    if team == '76ers':\n",
    "        team = 'sixers'\n",
    "    contents = urllib.request.urlopen(\"https://projects.fivethirtyeight.com/complete-history-of-the-nba/data/{}.json\".format(team)).read()\n",
    "    contents = json.loads(contents)\n",
    "    return contents['value']"
   ]
  },
  {
   "cell_type": "code",
   "execution_count": 28,
   "id": "27a620bc",
   "metadata": {},
   "outputs": [],
   "source": [
    "teams_list = teams.get_teams()"
   ]
  },
  {
   "cell_type": "code",
   "execution_count": 42,
   "id": "6910f232",
   "metadata": {},
   "outputs": [],
   "source": [
    "teams_elo_path = 'teams_elo'\n",
    "\n",
    "if not os.path.exists(teams_elo_path):\n",
    "        os.makedirs(teams_elo_path)\n",
    "        \n",
    "for team in teams_list:\n",
    "    elo_json = get_team_elo_json(team['nickname'])\n",
    "    parsed_dict = dict()\n",
    "    for x in elo_json:\n",
    "        if x.get('d'):\n",
    "            parsed_dict[str(datetime.datetime.strptime(x['d'], '%b %d, %Y'))] = x['y']\n",
    "    with open(f\"{teams_elo_path}/{team['abbreviation']}.json\", 'w') as fp:\n",
    "        json.dump(parsed_dict, fp)"
   ]
  }
 ],
 "metadata": {
  "kernelspec": {
   "display_name": "Python 3 (ipykernel)",
   "language": "python",
   "name": "python3"
  },
  "language_info": {
   "codemirror_mode": {
    "name": "ipython",
    "version": 3
   },
   "file_extension": ".py",
   "mimetype": "text/x-python",
   "name": "python",
   "nbconvert_exporter": "python",
   "pygments_lexer": "ipython3",
   "version": "3.9.12"
  }
 },
 "nbformat": 4,
 "nbformat_minor": 5
}
