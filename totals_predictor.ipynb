{
 "cells": [
  {
   "cell_type": "code",
   "execution_count": 1,
   "id": "0b88b7a5",
   "metadata": {},
   "outputs": [],
   "source": [
    "import pandas as pd\n",
    "import numpy as np\n",
    "from functools import reduce\n",
    "from IPython.display import clear_output\n",
    "import os\n",
    "import mysql.connector\n",
    "import csv_getters.helper_functions as hf\n",
    "from csv_getters.config import conn_host, conn_database, conn_user, conn_password\n",
    "import json\n",
    "import matplotlib.pyplot as plt\n",
    "import datetime as dt\n",
    "import matplotlib.dates as mdates"
   ]
  },
  {
   "cell_type": "code",
   "execution_count": 2,
   "id": "af60b8ca",
   "metadata": {},
   "outputs": [],
   "source": [
    "def connect_to_db():\n",
    "    return mysql.connector.connect(host=conn_host, \n",
    "                                     database=conn_database,\n",
    "                                     user=conn_user,\n",
    "                                     password=conn_password)\n",
    "\n",
    "def execute_query(query, read_only = True):\n",
    "    resp = None\n",
    "    try:\n",
    "        db = connect_to_db()\n",
    "        if read_only:\n",
    "            resp = pd.read_sql_query(query, db)\n",
    "        else:\n",
    "            mycursor = db.cursor()\n",
    "            mycursor.execute(query)\n",
    "\n",
    "            db.commit()\n",
    "        db.close()\n",
    "    except Exception as e:\n",
    "        print(e)\n",
    "    return resp"
   ]
  },
  {
   "cell_type": "code",
   "execution_count": 25,
   "id": "8ff821d5",
   "metadata": {},
   "outputs": [],
   "source": [
    "first_season = 2015\n",
    "last_season = 2018\n",
    "\n",
    "min_games = 5\n",
    "n_last_games = 15\n",
    "default_odds = 1.9\n",
    "default_bet_value = 10\n",
    "\n",
    "min_threshold = 66\n",
    "max_threshold = 34\n",
    "\n",
    "pd.options.mode.chained_assignment = None  # default='warn'"
   ]
  },
  {
   "cell_type": "code",
   "execution_count": 4,
   "id": "055efaed",
   "metadata": {},
   "outputs": [
    {
     "name": "stderr",
     "output_type": "stream",
     "text": [
      "C:\\Users\\caiog\\anaconda3\\lib\\site-packages\\pandas\\io\\sql.py:761: UserWarning: pandas only support SQLAlchemy connectable(engine/connection) ordatabase string URI or sqlite3 DBAPI2 connectionother DBAPI2 objects are not tested, please consider using SQLAlchemy\n",
      "  warnings.warn(\n"
     ]
    }
   ],
   "source": [
    "season_games = execute_query(f\"SELECT g.id, g.date, g.season, g.is_playoff, g.winner, g.home_id, ht.name as home_name, g.home_pts, g.home_fgm, g.home_fga, g.home_fg_pct, g.home_fg3m, g.home_fg3a, g.home_fg3_pct, g.home_ftm, g.home_fta, g.home_ft_pct, g.home_oreb, g.home_dreb, g.home_reb, g.home_ast, g.home_stl, g.home_blk, g.home_tov, g.home_pf, g.away_id, at.name as away_name, g.away_pts, g.away_fgm, g.away_fga, g.away_fg_pct, g.away_fg3m, g.away_fg3a, g.away_fg3_pct, g.away_ftm, g.away_fta, g.away_ft_pct, g.away_oreb, g.away_dreb, g.away_reb, g.away_ast, g.away_stl, g.away_blk, g.away_tov, g.away_pf, g.home_odds, g.away_odds, g.over_under_line FROM games AS g LEFT JOIN teams as ht ON g.home_id = ht.id LEFT JOIN teams as at ON g.away_id = at.id WHERE g.season >= {first_season} and g.season <= {last_season} and g.over_under_line IS NOT NULL ORDER BY g.date ASC\")"
   ]
  },
  {
   "cell_type": "code",
   "execution_count": 5,
   "id": "02d07de8",
   "metadata": {},
   "outputs": [
    {
     "data": {
      "text/html": [
       "<div>\n",
       "<style scoped>\n",
       "    .dataframe tbody tr th:only-of-type {\n",
       "        vertical-align: middle;\n",
       "    }\n",
       "\n",
       "    .dataframe tbody tr th {\n",
       "        vertical-align: top;\n",
       "    }\n",
       "\n",
       "    .dataframe thead th {\n",
       "        text-align: right;\n",
       "    }\n",
       "</style>\n",
       "<table border=\"1\" class=\"dataframe\">\n",
       "  <thead>\n",
       "    <tr style=\"text-align: right;\">\n",
       "      <th></th>\n",
       "      <th>id</th>\n",
       "      <th>date</th>\n",
       "      <th>season</th>\n",
       "      <th>is_playoff</th>\n",
       "      <th>winner</th>\n",
       "      <th>home_id</th>\n",
       "      <th>home_name</th>\n",
       "      <th>home_pts</th>\n",
       "      <th>home_fgm</th>\n",
       "      <th>home_fga</th>\n",
       "      <th>...</th>\n",
       "      <th>away_dreb</th>\n",
       "      <th>away_reb</th>\n",
       "      <th>away_ast</th>\n",
       "      <th>away_stl</th>\n",
       "      <th>away_blk</th>\n",
       "      <th>away_tov</th>\n",
       "      <th>away_pf</th>\n",
       "      <th>home_odds</th>\n",
       "      <th>away_odds</th>\n",
       "      <th>over_under_line</th>\n",
       "    </tr>\n",
       "  </thead>\n",
       "  <tbody>\n",
       "    <tr>\n",
       "      <th>0</th>\n",
       "      <td>20800001</td>\n",
       "      <td>2008-10-28</td>\n",
       "      <td>2008</td>\n",
       "      <td>0</td>\n",
       "      <td>H</td>\n",
       "      <td>1610612738</td>\n",
       "      <td>Boston Celtics</td>\n",
       "      <td>90</td>\n",
       "      <td>33</td>\n",
       "      <td>74</td>\n",
       "      <td>...</td>\n",
       "      <td>33</td>\n",
       "      <td>41</td>\n",
       "      <td>16</td>\n",
       "      <td>8</td>\n",
       "      <td>2</td>\n",
       "      <td>22</td>\n",
       "      <td>26</td>\n",
       "      <td>1.36</td>\n",
       "      <td>3.15</td>\n",
       "      <td>182.5</td>\n",
       "    </tr>\n",
       "    <tr>\n",
       "      <th>1</th>\n",
       "      <td>20800002</td>\n",
       "      <td>2008-10-28</td>\n",
       "      <td>2008</td>\n",
       "      <td>0</td>\n",
       "      <td>H</td>\n",
       "      <td>1610612741</td>\n",
       "      <td>Chicago Bulls</td>\n",
       "      <td>108</td>\n",
       "      <td>35</td>\n",
       "      <td>69</td>\n",
       "      <td>...</td>\n",
       "      <td>19</td>\n",
       "      <td>32</td>\n",
       "      <td>21</td>\n",
       "      <td>5</td>\n",
       "      <td>3</td>\n",
       "      <td>19</td>\n",
       "      <td>30</td>\n",
       "      <td>1.36</td>\n",
       "      <td>3.20</td>\n",
       "      <td>198.0</td>\n",
       "    </tr>\n",
       "    <tr>\n",
       "      <th>2</th>\n",
       "      <td>20800003</td>\n",
       "      <td>2008-10-28</td>\n",
       "      <td>2008</td>\n",
       "      <td>0</td>\n",
       "      <td>H</td>\n",
       "      <td>1610612747</td>\n",
       "      <td>Los Angeles Lakers</td>\n",
       "      <td>96</td>\n",
       "      <td>37</td>\n",
       "      <td>79</td>\n",
       "      <td>...</td>\n",
       "      <td>31</td>\n",
       "      <td>44</td>\n",
       "      <td>19</td>\n",
       "      <td>8</td>\n",
       "      <td>3</td>\n",
       "      <td>14</td>\n",
       "      <td>17</td>\n",
       "      <td>1.27</td>\n",
       "      <td>3.85</td>\n",
       "      <td>195.0</td>\n",
       "    </tr>\n",
       "    <tr>\n",
       "      <th>3</th>\n",
       "      <td>20800004</td>\n",
       "      <td>2008-10-29</td>\n",
       "      <td>2008</td>\n",
       "      <td>0</td>\n",
       "      <td>A</td>\n",
       "      <td>1610612753</td>\n",
       "      <td>Orlando Magic</td>\n",
       "      <td>85</td>\n",
       "      <td>32</td>\n",
       "      <td>87</td>\n",
       "      <td>...</td>\n",
       "      <td>35</td>\n",
       "      <td>53</td>\n",
       "      <td>17</td>\n",
       "      <td>10</td>\n",
       "      <td>7</td>\n",
       "      <td>15</td>\n",
       "      <td>23</td>\n",
       "      <td>1.25</td>\n",
       "      <td>3.95</td>\n",
       "      <td>202.5</td>\n",
       "    </tr>\n",
       "    <tr>\n",
       "      <th>4</th>\n",
       "      <td>20800005</td>\n",
       "      <td>2008-10-29</td>\n",
       "      <td>2008</td>\n",
       "      <td>0</td>\n",
       "      <td>A</td>\n",
       "      <td>1610612755</td>\n",
       "      <td>Philadelphia 76ers</td>\n",
       "      <td>84</td>\n",
       "      <td>29</td>\n",
       "      <td>84</td>\n",
       "      <td>...</td>\n",
       "      <td>23</td>\n",
       "      <td>33</td>\n",
       "      <td>24</td>\n",
       "      <td>8</td>\n",
       "      <td>5</td>\n",
       "      <td>10</td>\n",
       "      <td>23</td>\n",
       "      <td>1.46</td>\n",
       "      <td>2.72</td>\n",
       "      <td>187.5</td>\n",
       "    </tr>\n",
       "  </tbody>\n",
       "</table>\n",
       "<p>5 rows × 48 columns</p>\n",
       "</div>"
      ],
      "text/plain": [
       "         id       date  season  is_playoff winner     home_id  \\\n",
       "0  20800001 2008-10-28    2008           0      H  1610612738   \n",
       "1  20800002 2008-10-28    2008           0      H  1610612741   \n",
       "2  20800003 2008-10-28    2008           0      H  1610612747   \n",
       "3  20800004 2008-10-29    2008           0      A  1610612753   \n",
       "4  20800005 2008-10-29    2008           0      A  1610612755   \n",
       "\n",
       "            home_name  home_pts  home_fgm  home_fga  ...  away_dreb  away_reb  \\\n",
       "0      Boston Celtics        90        33        74  ...         33        41   \n",
       "1       Chicago Bulls       108        35        69  ...         19        32   \n",
       "2  Los Angeles Lakers        96        37        79  ...         31        44   \n",
       "3       Orlando Magic        85        32        87  ...         35        53   \n",
       "4  Philadelphia 76ers        84        29        84  ...         23        33   \n",
       "\n",
       "   away_ast  away_stl  away_blk  away_tov  away_pf  home_odds  away_odds  \\\n",
       "0        16         8         2        22       26       1.36       3.15   \n",
       "1        21         5         3        19       30       1.36       3.20   \n",
       "2        19         8         3        14       17       1.27       3.85   \n",
       "3        17        10         7        15       23       1.25       3.95   \n",
       "4        24         8         5        10       23       1.46       2.72   \n",
       "\n",
       "   over_under_line  \n",
       "0            182.5  \n",
       "1            198.0  \n",
       "2            195.0  \n",
       "3            202.5  \n",
       "4            187.5  \n",
       "\n",
       "[5 rows x 48 columns]"
      ]
     },
     "execution_count": 5,
     "metadata": {},
     "output_type": "execute_result"
    }
   ],
   "source": [
    "season_games.head()"
   ]
  },
  {
   "cell_type": "code",
   "execution_count": 6,
   "id": "923cfbc8",
   "metadata": {},
   "outputs": [],
   "source": [
    "def get_team_made_conceded_pct(games, line):\n",
    "    made = np.array(games['team_pts'])\n",
    "    conceded = np.array(games['opp_pts'])\n",
    "    totals = made + conceded\n",
    "    greater = (totals > line).sum()\n",
    "    pct = greater*100/len(totals)\n",
    "    return pct\n",
    "\n",
    "def get_team_info(team_id, game_date, season, line, scenario):\n",
    "    response = hf.get_team_previous_games(season_games, team_id, game_date, season)\n",
    "    if not response: return None\n",
    "    \n",
    "    home_previous_games, away_previous_games, previous_games, previous_season_games = response\n",
    "    \n",
    "    if len(previous_season_games.index) < min_games:\n",
    "        return None\n",
    "    \n",
    "    overall_pct = get_team_made_conceded_pct(previous_season_games.iloc[-n_last_games:,:], line)\n",
    "    if scenario == 'H':\n",
    "        ha_pct = get_team_made_conceded_pct(home_previous_games.iloc[-n_last_games:,:], line)\n",
    "    else:\n",
    "        ha_pct = get_team_made_conceded_pct(away_previous_games.iloc[-n_last_games:,:], line)\n",
    "    return overall_pct, ha_pct\n",
    "    \n",
    "    "
   ]
  },
  {
   "cell_type": "code",
   "execution_count": 26,
   "id": "2b4a4ffe",
   "metadata": {},
   "outputs": [
    {
     "name": "stdout",
     "output_type": "stream",
     "text": [
      "Season 2017/2018: 1311/1312\n"
     ]
    }
   ],
   "source": [
    "season_itr = first_season\n",
    "\n",
    "results = dict()\n",
    "\n",
    "while season_itr < last_season:\n",
    "    rights = 0\n",
    "    total = 0\n",
    "    profit = 0\n",
    "    over = 0\n",
    "    under = 0\n",
    "    games_filtered = season_games.loc[season_games['season'] == season_itr].reset_index(drop=True)\n",
    "    dates = [games_filtered.iloc[0,:]['date']]\n",
    "    profit_tracking = [0]\n",
    "    for index, game in games_filtered.iterrows():\n",
    "        clear_output(wait=True)\n",
    "        print(f\"Season {season_itr}/{last_season}: {index}/{len(games_filtered.index)}\")\n",
    "\n",
    "        if game['date'] != dates[-1]:\n",
    "            dates.append(game['date'])\n",
    "            profit_tracking.append(profit_tracking[-1])\n",
    "\n",
    "        response = get_team_info(game['home_id'], game['date'], game['season'], game['over_under_line'], 'H')\n",
    "        if not response: continue\n",
    "\n",
    "        home_overall_pct, home_ha_pct = response\n",
    "\n",
    "        response = get_team_info(game['away_id'], game['date'], game['season'], game['over_under_line'], 'A')\n",
    "        if not response: continue\n",
    "\n",
    "        away_overall_pct, away_ha_pct = response\n",
    "\n",
    "        if game['home_pts'] + game['away_pts'] > game['over_under_line']:\n",
    "            over += 1\n",
    "        elif game['home_pts'] + game['away_pts'] < game['over_under_line']:\n",
    "            under += 1\n",
    "            \n",
    "        game_money = 0\n",
    "        array_converted = np.array([home_overall_pct, home_ha_pct, away_overall_pct, away_ha_pct])\n",
    "        if min(home_overall_pct, home_ha_pct, away_overall_pct, away_ha_pct) > max_threshold:\n",
    "            if game['home_pts'] + game['away_pts'] > game['over_under_line']:\n",
    "                rights += 1\n",
    "                game_money = default_bet_value * (default_odds-1)\n",
    "            else:\n",
    "                game_money = -default_bet_value\n",
    "            total += 1\n",
    "        elif max(home_overall_pct, home_ha_pct, away_overall_pct, away_ha_pct) < min_threshold:\n",
    "            if game['home_pts'] + game['away_pts'] < game['over_under_line']:\n",
    "                rights += 1\n",
    "                game_money = default_bet_value * (default_odds-1)\n",
    "            else:\n",
    "                game_money = -default_bet_value\n",
    "            total += 1\n",
    "\n",
    "        profit_tracking[-1] += game_money\n",
    "        profit += game_money\n",
    "        \n",
    "    results[season_itr] = {\n",
    "        'rights': rights,\n",
    "        'total': total,\n",
    "        'profit': profit,\n",
    "        'dates': dates,\n",
    "        'over': over,\n",
    "        'under': under,\n",
    "        'profit_tracking': profit_tracking\n",
    "    }\n",
    "    season_itr += 1"
   ]
  },
  {
   "cell_type": "code",
   "execution_count": 27,
   "id": "d5cc9369",
   "metadata": {},
   "outputs": [],
   "source": [
    "def plot_progression_chart(result, season):\n",
    "    print(f\"\\n{season} results:\")\n",
    "    print(f\"{result['rights']} hits out of {result['total']}\")\n",
    "    print(f\"{result['over']} times over the totals line\")\n",
    "    print(f\"{result['under']} times under the totals line\")\n",
    "    print(f\"Strike rate: {result['rights']*100/result['total']}\")\n",
    "    print(f\"Profit: ${result['profit']}\")\n",
    "    \n",
    "    xpoints = np.array(result['dates']).astype(np.datetime64)\n",
    "\n",
    "    plt.gca().xaxis.set_major_formatter(mdates.DateFormatter('%Y-%m-%d'))\n",
    "    plt.gca().xaxis.set_major_locator(mdates.DayLocator(interval=15))\n",
    "    plt.plot(xpoints, np.array(result['profit_tracking']))\n",
    "\n",
    "    title = f\"Profit by Date ({season})\"\n",
    "    plt.ylabel(\"Profit($)\")\n",
    "    plt.xlabel(\"Date\")\n",
    "    plt.title(title)\n",
    "    plt.gcf().autofmt_xdate()\n",
    "    plt.savefig('charts/{}.png'.format(title.replace(' ','_').lower()), dpi=300)\n",
    "    plt.show()"
   ]
  },
  {
   "cell_type": "code",
   "execution_count": 28,
   "id": "a29be454",
   "metadata": {},
   "outputs": [
    {
     "name": "stdout",
     "output_type": "stream",
     "text": [
      "\n",
      "2015 results:\n",
      "463 hits out of 991\n",
      "602 times over the totals line\n",
      "616 times under the totals line\n",
      "Strike rate: 46.7204843592331\n",
      "Profit: $-1113.0\n"
     ]
    },
    {
     "data": {
      "image/png": "[encoded data removed]",
      "text/plain": [
       "<Figure size 432x288 with 1 Axes>"
      ]
     },
     "metadata": {
      "needs_background": "light"
     },
     "output_type": "display_data"
    },
    {
     "name": "stdout",
     "output_type": "stream",
     "text": [
      "\n",
      "2016 results:\n",
      "423 hits out of 915\n",
      "616 times over the totals line\n",
      "599 times under the totals line\n",
      "Strike rate: 46.22950819672131\n",
      "Profit: $-1113.0\n"
     ]
    },
    {
     "data": {
      "image/png": "[encoded data removed]",
      "text/plain": [
       "<Figure size 432x288 with 1 Axes>"
      ]
     },
     "metadata": {
      "needs_background": "light"
     },
     "output_type": "display_data"
    },
    {
     "name": "stdout",
     "output_type": "stream",
     "text": [
      "\n",
      "2017 results:\n",
      "448 hits out of 929\n",
      "599 times over the totals line\n",
      "618 times under the totals line\n",
      "Strike rate: 48.22389666307858\n",
      "Profit: $-778.0\n"
     ]
    },
    {
     "data": {
      "image/png": "[encoded data removed]",
      "text/plain": [
       "<Figure size 432x288 with 1 Axes>"
      ]
     },
     "metadata": {
      "needs_background": "light"
     },
     "output_type": "display_data"
    }
   ],
   "source": [
    "profit_sum = 0\n",
    "for season in results:\n",
    "    profit_sum += results[season]['profit']\n",
    "    plot_progression_chart(results[season], season)"
   ]
  },
  {
   "cell_type": "code",
   "execution_count": 29,
   "id": "8c692555",
   "metadata": {},
   "outputs": [
    {
     "name": "stdout",
     "output_type": "stream",
     "text": [
      "Total profit: $-3004.0\n"
     ]
    }
   ],
   "source": [
    "print(f\"Total profit: ${profit_sum}\")"
   ]
  },
  {
   "cell_type": "code",
   "execution_count": 30,
   "id": "ef26e452",
   "metadata": {},
   "outputs": [
    {
     "name": "stdout",
     "output_type": "stream",
     "text": [
      "20.0\n"
     ]
    }
   ],
   "source": [
    "print(min(array_converted))"
   ]
  },
  {
   "cell_type": "code",
   "execution_count": null,
   "id": "8c25b1f1",
   "metadata": {},
   "outputs": [],
   "source": []
  }
 ],
 "metadata": {
  "kernelspec": {
   "display_name": "Python 3 (ipykernel)",
   "language": "python",
   "name": "python3"
  },
  "language_info": {
   "codemirror_mode": {
    "name": "ipython",
    "version": 3
   },
   "file_extension": ".py",
   "mimetype": "text/x-python",
   "name": "python",
   "nbconvert_exporter": "python",
   "pygments_lexer": "ipython3",
   "version": "3.9.12"
  }
 },
 "nbformat": 4,
 "nbformat_minor": 5
}
