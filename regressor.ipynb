{
 "cells": [
  {
   "cell_type": "code",
   "execution_count": 1,
   "metadata": {},
   "outputs": [],
   "source": [
    "import os\n",
    "import pandas as pd\n",
    "import numpy as np\n",
    "import matplotlib.pyplot as plt\n",
    "import datetime as dt\n",
    "import matplotlib.dates as mdates\n",
    "from sklearn.metrics import confusion_matrix, accuracy_score\n",
    "import pickle\n",
    "from IPython.display import clear_output\n",
    "from itertools import product, combinations\n",
    "import json\n",
    "from sklearn.preprocessing import StandardScaler"
   ]
  },
  {
   "cell_type": "code",
   "execution_count": 128,
   "metadata": {},
   "outputs": [],
   "source": [
    "league_id = 71 # Choose the league id\n",
    "\n",
    "season_file = '2008-2021'\n",
    "\n",
    "first_season = 2012\n",
    "last_season = 2021\n",
    "\n",
    "features = ['PTS_A', 'PTS_CON_A', 'FG_PCT_A', 'FG3_PCT_A', 'FT_PCT_A', 'REB_A', 'TOV_A', 'SEASON_A_PCT', 'PER_A', 'ELO_A', 'MATCHUP_A_PCT', 'HA_A_PCT', 'STREAK_A', 'LAST_GAMES_PCT_A', 'HA_LAST_GAMES_PCT_A', 'OFF_RTG_A', 'DEF_RTG_A',\n",
    "            'PTS_B', 'PTS_CON_B', 'FG_PCT_B', 'FG3_PCT_B', 'FT_PCT_B', 'REB_B', 'TOV_B', 'SEASON_B_PCT', 'PER_B', 'ELO_B', 'MATCHUP_B_PCT', 'HA_B_PCT', 'STREAK_B', 'LAST_GAMES_PCT_B', 'HA_LAST_GAMES_PCT_B', 'OFF_RTG_B', 'DEF_RTG_B']\n",
    "targets = ['GAME_PTS_A', 'GAME_PTS_B']\n",
    "\n",
    "min_threshold = 1.75\n",
    "max_threshold = 10\n",
    "\n",
    "first_attr_index = 7\n",
    "\n",
    "# default_stake = 50\n",
    "bankroll = 2000\n",
    "stake = 0.025"
   ]
  },
  {
   "cell_type": "code",
   "execution_count": 129,
   "metadata": {},
   "outputs": [
    {
     "name": "stdout",
     "output_type": "stream",
     "text": [
      "\n",
      "Getting data for the model...\n"
     ]
    }
   ],
   "source": [
    "print('\\nGetting data for the model...')\n",
    "\n",
    "season = \"{}-{}\".format(first_season, last_season)\n",
    "\n",
    "default_path = f'./leagues/{league_id}'\n",
    "whole_dataset = pd.read_csv('./data/{}.csv'.format(season_file))\n",
    "whole_dataset = whole_dataset.loc[(whole_dataset['ODDS_A'].notna()) & (whole_dataset['ODDS_B'].notna())]\n",
    "whole_dataset['GAME_DATE'] = pd.to_datetime(whole_dataset['GAME_DATE']).dt.date"
   ]
  },
  {
   "cell_type": "code",
   "execution_count": 130,
   "metadata": {
    "scrolled": true
   },
   "outputs": [
    {
     "data": {
      "text/html": [
       "<div>\n",
       "<style scoped>\n",
       "    .dataframe tbody tr th:only-of-type {\n",
       "        vertical-align: middle;\n",
       "    }\n",
       "\n",
       "    .dataframe tbody tr th {\n",
       "        vertical-align: top;\n",
       "    }\n",
       "\n",
       "    .dataframe thead th {\n",
       "        text-align: right;\n",
       "    }\n",
       "</style>\n",
       "<table border=\"1\" class=\"dataframe\">\n",
       "  <thead>\n",
       "    <tr style=\"text-align: right;\">\n",
       "      <th></th>\n",
       "      <th>Unnamed: 0</th>\n",
       "      <th>SEASON_ID</th>\n",
       "      <th>GAME_DATE</th>\n",
       "      <th>TEAM_A</th>\n",
       "      <th>TEAM_B</th>\n",
       "      <th>ODDS_A</th>\n",
       "      <th>ODDS_B</th>\n",
       "      <th>TOTALS_LINE</th>\n",
       "      <th>SPREAD_LINE</th>\n",
       "      <th>PTS_A</th>\n",
       "      <th>...</th>\n",
       "      <th>MATCHUP_B_PCT</th>\n",
       "      <th>HA_B_PCT</th>\n",
       "      <th>STREAK_B</th>\n",
       "      <th>LAST_GAMES_PCT_B</th>\n",
       "      <th>HA_LAST_GAMES_PCT_B</th>\n",
       "      <th>OFF_RTG_B</th>\n",
       "      <th>DEF_RTG_B</th>\n",
       "      <th>WINNER</th>\n",
       "      <th>GAME_PTS_A</th>\n",
       "      <th>GAME_PTS_B</th>\n",
       "    </tr>\n",
       "  </thead>\n",
       "  <tbody>\n",
       "    <tr>\n",
       "      <th>14464</th>\n",
       "      <td>14464</td>\n",
       "      <td>2021</td>\n",
       "      <td>2022-04-10</td>\n",
       "      <td>NYK</td>\n",
       "      <td>TOR</td>\n",
       "      <td>1.96</td>\n",
       "      <td>1.89</td>\n",
       "      <td>214.0</td>\n",
       "      <td>NaN</td>\n",
       "      <td>110.1</td>\n",
       "      <td>...</td>\n",
       "      <td>0.8</td>\n",
       "      <td>0.426210</td>\n",
       "      <td>-3</td>\n",
       "      <td>0.8</td>\n",
       "      <td>0.8</td>\n",
       "      <td>116.418296</td>\n",
       "      <td>116.418296</td>\n",
       "      <td>H</td>\n",
       "      <td>105</td>\n",
       "      <td>94</td>\n",
       "    </tr>\n",
       "    <tr>\n",
       "      <th>14465</th>\n",
       "      <td>14465</td>\n",
       "      <td>2021</td>\n",
       "      <td>2022-04-10</td>\n",
       "      <td>ORL</td>\n",
       "      <td>MIA</td>\n",
       "      <td>3.39</td>\n",
       "      <td>1.35</td>\n",
       "      <td>218.0</td>\n",
       "      <td>6.0</td>\n",
       "      <td>100.5</td>\n",
       "      <td>...</td>\n",
       "      <td>0.8</td>\n",
       "      <td>0.466592</td>\n",
       "      <td>-6</td>\n",
       "      <td>0.6</td>\n",
       "      <td>0.8</td>\n",
       "      <td>116.439241</td>\n",
       "      <td>116.439241</td>\n",
       "      <td>H</td>\n",
       "      <td>125</td>\n",
       "      <td>111</td>\n",
       "    </tr>\n",
       "    <tr>\n",
       "      <th>14466</th>\n",
       "      <td>14466</td>\n",
       "      <td>2021</td>\n",
       "      <td>2022-04-10</td>\n",
       "      <td>PHI</td>\n",
       "      <td>DET</td>\n",
       "      <td>1.37</td>\n",
       "      <td>3.23</td>\n",
       "      <td>221.0</td>\n",
       "      <td>6.5</td>\n",
       "      <td>119.6</td>\n",
       "      <td>...</td>\n",
       "      <td>0.2</td>\n",
       "      <td>0.389988</td>\n",
       "      <td>-2</td>\n",
       "      <td>0.4</td>\n",
       "      <td>0.6</td>\n",
       "      <td>108.780001</td>\n",
       "      <td>108.780001</td>\n",
       "      <td>H</td>\n",
       "      <td>118</td>\n",
       "      <td>106</td>\n",
       "    </tr>\n",
       "    <tr>\n",
       "      <th>14467</th>\n",
       "      <td>14467</td>\n",
       "      <td>2021</td>\n",
       "      <td>2022-04-10</td>\n",
       "      <td>PHX</td>\n",
       "      <td>SAC</td>\n",
       "      <td>1.19</td>\n",
       "      <td>5.14</td>\n",
       "      <td>227.0</td>\n",
       "      <td>9.0</td>\n",
       "      <td>116.4</td>\n",
       "      <td>...</td>\n",
       "      <td>0.4</td>\n",
       "      <td>0.334146</td>\n",
       "      <td>-3</td>\n",
       "      <td>0.4</td>\n",
       "      <td>0.6</td>\n",
       "      <td>107.126278</td>\n",
       "      <td>107.126278</td>\n",
       "      <td>A</td>\n",
       "      <td>109</td>\n",
       "      <td>116</td>\n",
       "    </tr>\n",
       "    <tr>\n",
       "      <th>14468</th>\n",
       "      <td>14468</td>\n",
       "      <td>2021</td>\n",
       "      <td>2022-04-10</td>\n",
       "      <td>POR</td>\n",
       "      <td>UTA</td>\n",
       "      <td>10.90</td>\n",
       "      <td>1.06</td>\n",
       "      <td>220.0</td>\n",
       "      <td>17.0</td>\n",
       "      <td>100.7</td>\n",
       "      <td>...</td>\n",
       "      <td>0.7</td>\n",
       "      <td>0.413349</td>\n",
       "      <td>-1</td>\n",
       "      <td>0.3</td>\n",
       "      <td>0.0</td>\n",
       "      <td>114.468630</td>\n",
       "      <td>114.468630</td>\n",
       "      <td>A</td>\n",
       "      <td>80</td>\n",
       "      <td>111</td>\n",
       "    </tr>\n",
       "  </tbody>\n",
       "</table>\n",
       "<p>5 rows × 46 columns</p>\n",
       "</div>"
      ],
      "text/plain": [
       "       Unnamed: 0  SEASON_ID   GAME_DATE TEAM_A TEAM_B  ODDS_A  ODDS_B  \\\n",
       "14464       14464       2021  2022-04-10    NYK    TOR    1.96    1.89   \n",
       "14465       14465       2021  2022-04-10    ORL    MIA    3.39    1.35   \n",
       "14466       14466       2021  2022-04-10    PHI    DET    1.37    3.23   \n",
       "14467       14467       2021  2022-04-10    PHX    SAC    1.19    5.14   \n",
       "14468       14468       2021  2022-04-10    POR    UTA   10.90    1.06   \n",
       "\n",
       "       TOTALS_LINE  SPREAD_LINE  PTS_A  ...  MATCHUP_B_PCT  HA_B_PCT  \\\n",
       "14464        214.0          NaN  110.1  ...            0.8  0.426210   \n",
       "14465        218.0          6.0  100.5  ...            0.8  0.466592   \n",
       "14466        221.0          6.5  119.6  ...            0.2  0.389988   \n",
       "14467        227.0          9.0  116.4  ...            0.4  0.334146   \n",
       "14468        220.0         17.0  100.7  ...            0.7  0.413349   \n",
       "\n",
       "       STREAK_B  LAST_GAMES_PCT_B  HA_LAST_GAMES_PCT_B   OFF_RTG_B  \\\n",
       "14464        -3               0.8                  0.8  116.418296   \n",
       "14465        -6               0.6                  0.8  116.439241   \n",
       "14466        -2               0.4                  0.6  108.780001   \n",
       "14467        -3               0.4                  0.6  107.126278   \n",
       "14468        -1               0.3                  0.0  114.468630   \n",
       "\n",
       "        DEF_RTG_B  WINNER  GAME_PTS_A  GAME_PTS_B  \n",
       "14464  116.418296       H         105          94  \n",
       "14465  116.439241       H         125         111  \n",
       "14466  108.780001       H         118         106  \n",
       "14467  107.126278       A         109         116  \n",
       "14468  114.468630       A          80         111  \n",
       "\n",
       "[5 rows x 46 columns]"
      ]
     },
     "execution_count": 130,
     "metadata": {},
     "output_type": "execute_result"
    }
   ],
   "source": [
    "whole_dataset.tail()"
   ]
  },
  {
   "cell_type": "code",
   "execution_count": 131,
   "metadata": {},
   "outputs": [],
   "source": [
    "def plot_chart(title, x_label, y_label):\n",
    "    plt.ylabel(y_label)\n",
    "    plt.xlabel(x_label)\n",
    "    plt.title(title)\n",
    "    \n",
    "    path = 'charts'\n",
    "    if not os.path.exists(path):\n",
    "        os.makedirs(path)\n",
    "    \n",
    "    plt.savefig(f\"{path}/{title.replace(' ','_').lower()}.png\", dpi=300)\n",
    "    plt.show()\n",
    "\n",
    "def plot_hist(title, x_label, y_label, data):\n",
    "    plt.hist(data, density=False, bins=20)  # density=False would make counts\n",
    "    plot_chart(title, x_label, y_label)\n",
    "    \n",
    "def plot_bar(title, x_label, y_label, x_data, y_data):\n",
    "    ax= plt.subplot()\n",
    "    plt.bar(x_data, y_data) \n",
    "    # plt.setp(ax.get_xticklabels(), rotation=30, ha='right')\n",
    "    plt.xticks(fontsize=10, rotation=90)\n",
    "    plot_chart(title, x_label, y_label)\n",
    "    \n",
    "def plot_pie_chart(title, labels, data):\n",
    "    try:\n",
    "        data_converted = np.unique(data, return_counts=True)[1]\n",
    "        plt.pie(data_converted, labels = labels, startangle = 90, shadow = True, autopct='%.2f%%')\n",
    "        plt.title(title)\n",
    "        plt.savefig('charts/{}.png'.format(title.replace(' ','_').lower()), dpi=300)\n",
    "        plt.show() \n",
    "    except Exception as e:\n",
    "        print(f'Error when trying to plot the pie chart: {e}')\n",
    "\n",
    "def check_bet_worth(prediction, odds_home, odds_away):\n",
    "    return ((prediction == 'H' and (odds_home > min_threshold and odds_home < max_threshold)) or \n",
    "            (prediction == 'A' and (odds_away > min_threshold and odds_away < max_threshold)))\n",
    "\n",
    "def check_model_performance_on_game(game, prediction, bet_value):\n",
    "    game_money = 0\n",
    "    \n",
    "    if check_bet_worth(prediction, game['ODDS_A'], game['ODDS_B']):\n",
    "        if game['WINNER'] == prediction and game['WINNER'] == 'H':\n",
    "            game_money = (bet_value*game['ODDS_A'] - bet_value)\n",
    "        elif game['WINNER'] == prediction and game['WINNER'] == 'A':\n",
    "            game_money = (bet_value*game['ODDS_B'] - bet_value)\n",
    "        else:\n",
    "            game_money = -bet_value\n",
    "    return game_money\n",
    "\n",
    "def get_bet_value(bankroll):\n",
    "    bankroll_baseline = round(bankroll / 1000, 0) * 1000\n",
    "    return stake * bankroll_baseline\n",
    "#     return default_stake\n",
    "\n",
    "def get_pred_odds(probs):\n",
    "    return 1/probs[0], 1/probs[1] # Away, Home"
   ]
  },
  {
   "cell_type": "code",
   "execution_count": 132,
   "metadata": {},
   "outputs": [],
   "source": [
    "def get_feature_correlation_matrix(dataset):\n",
    "    print('\\nGetting the feature correlation matrix...')\n",
    "\n",
    "    import seaborn as sns\n",
    "\n",
    "    try:\n",
    "        dependent_variables = dataset.iloc[:,first_attr_index:]\n",
    "        corrmat = dependent_variables.corr()\n",
    "        top_corr_features = corrmat.index\n",
    "        plt.figure(figsize=(13,13))\n",
    "        title = 'Feature Correlation'\n",
    "        plt.title(title)\n",
    "        #plot heat map\n",
    "        sns.set(font_scale=0.6)\n",
    "        g=sns.heatmap(dependent_variables.corr(),annot=True,cmap='Blues', fmt='0.1g')\n",
    "        plt.savefig('charts/{}.png'.format(title.replace(' ','_').lower()), dpi=300)\n",
    "        plt.show()\n",
    "    except:\n",
    "        print('No correlation matrix for the selected model.')"
   ]
  },
  {
   "cell_type": "code",
   "execution_count": 141,
   "metadata": {},
   "outputs": [],
   "source": [
    "def simulate_by_model(predictions, dataset_itr):\n",
    "    money_by_date = []\n",
    "    bets = []\n",
    "    money_by_team = dict()\n",
    "    total_invested = 0\n",
    "    parlays = []\n",
    "    outcome_predictions = {'H': 0, 'A': 0}\n",
    "    strikes = 0\n",
    "    totals_bets = 0\n",
    "    totals_hits = 0\n",
    "\n",
    "    money_by_date.append({\n",
    "        'date': dataset_itr.iloc[0,2],\n",
    "        'date_profit': 0,\n",
    "        'total_bankroll': bankroll\n",
    "    })\n",
    "\n",
    "    for index, game in dataset_itr.iterrows():\n",
    "        # Next date\n",
    "        if game['GAME_DATE'] != money_by_date[-1]['date']:    \n",
    "            # Tracking built parlay\n",
    "            for parlay in parlays:\n",
    "#                 if parlay['parlay_odds'] >= 1.5:\n",
    "                bet_value = get_bet_value(money_by_date[-1]['total_bankroll'])\n",
    "                game_money_model = ((parlay['parlay_odds'] * bet_value) - bet_value) if parlay['parlay_won'] else -bet_value\n",
    "                total_invested += bet_value\n",
    "                money_by_date[-1]['date_profit'] += game_money_model\n",
    "                money_by_date[-1]['total_bankroll'] += game_money_model\n",
    "\n",
    "            parlays = []\n",
    "            money_by_date.append({\n",
    "                'date': game['GAME_DATE'],\n",
    "                'date_profit': 0,\n",
    "                'total_bankroll': money_by_date[-1]['total_bankroll']\n",
    "            })\n",
    "\n",
    "        if game['TEAM_A'] not in money_by_team:\n",
    "            money_by_team[game['TEAM_A']] = 0\n",
    "        if game['TEAM_B'] not in money_by_team:\n",
    "            money_by_team[game['TEAM_B']] = 0\n",
    "\n",
    "        pts_a_pred, pts_b_pred = predictions[index]\n",
    "        prediction = 'H' if pts_a_pred > pts_b_pred else 'A'\n",
    "        \n",
    "        if game['TOTALS_LINE']:\n",
    "            totals_bets += 1\n",
    "            if (game['GAME_PTS_A'] + game['GAME_PTS_B'] > game['TOTALS_LINE'] and pts_a_pred + pts_b_pred > game['TOTALS_LINE']) or (game['GAME_PTS_A'] + game['GAME_PTS_B'] < game['TOTALS_LINE'] and pts_a_pred + pts_b_pred < game['TOTALS_LINE']):\n",
    "                totals_hits += 1\n",
    "        \n",
    "        if prediction == game['WINNER']:\n",
    "            strikes += 1\n",
    "\n",
    "        game_money_model = 0\n",
    "        bet_value = get_bet_value(money_by_date[-1]['total_bankroll'])\n",
    "\n",
    "        game_money_model = check_model_performance_on_game(game, prediction, bet_value)\n",
    "\n",
    "        if game_money_model != 0:       \n",
    "            if game['WINNER'] == prediction and game['WINNER'] == 'H':\n",
    "                bets.append(['HOME', game['ODDS_A'], 1])\n",
    "                money_by_team[game['TEAM_A']] += game_money_model\n",
    "            elif game['WINNER'] == prediction and game['WINNER'] == 'A':\n",
    "                bets.append(['AWAY', game['ODDS_B'], 1])\n",
    "                money_by_team[game['TEAM_B']] += game_money_model\n",
    "            else:\n",
    "                if prediction == 'H':\n",
    "                    bets.append(['HOME', game['ODDS_A'], 0])\n",
    "                    money_by_team[game['TEAM_A']] += game_money_model\n",
    "                else:\n",
    "                    bets.append(['AWAY', game['ODDS_B'], 0])\n",
    "                    money_by_team[game['TEAM_B']] += game_money_model\n",
    "\n",
    "            total_invested += bet_value\n",
    "#         else:\n",
    "#             if not len(parlays) or parlays[-1]['parlay_odds'] > 1.75 or len(parlays[-1]['parlay_matches']) > 2:\n",
    "#                 parlays.append({\n",
    "#                     'parlay_odds': 0,\n",
    "#                     'parlay_won': True,\n",
    "#                     'parlay_matches': []\n",
    "#                 })\n",
    "            \n",
    "#             odds = game['ODDS_A'] if prediction == 'H' else game['ODDS_B']\n",
    "#             parlays[-1]['parlay_odds'] = odds * parlays[-1]['parlay_odds'] if parlays[-1]['parlay_odds'] > 0 else odds # Parlay odds\n",
    "#             parlays[-1]['parlay_matches'].append(f\"{game['TEAM_A']} ({game['ODDS_A']}) x ({game['ODDS_B']}) {game['TEAM_B']}\") # Parlay match counter\n",
    "            \n",
    "#         if game_money_model == 0 and prediction != game['WINNER']:\n",
    "#             parlays[-1]['parlay_won'] = False \n",
    "\n",
    "        outcome_predictions[prediction] += 1\n",
    "\n",
    "#         print(f\"\\nGAME DATE: {game['GAME_DATE']}\")\n",
    "#         print(f\"GAME OUTCOME: {game['OUTCOME']}\")\n",
    "#         print(f\"PREDICTED OUTCOME: {prediction}\")\n",
    "#         print(f\"GAME: {game['HOME_TEAM']} ({game['HOME_ODDS']}) x ({game['AWAY_ODDS']}) {game['AWAY_TEAM']}\")\n",
    "\n",
    "        money_by_date[-1]['date_profit'] += game_money_model\n",
    "        money_by_date[-1]['total_bankroll'] += game_money_model\n",
    "        \n",
    "    return {\n",
    "        'results': money_by_date,\n",
    "        'outcome_distribution': outcome_predictions,\n",
    "        'bets': bets,\n",
    "        'profit_by_team': money_by_team,\n",
    "        'total_invested': total_invested,\n",
    "        'strike_rate': strikes * 100 / len(dataset_itr.index),\n",
    "        'totals_strike_rate': totals_hits * 100 / totals_bets,\n",
    "    }\n"
   ]
  },
  {
   "cell_type": "code",
   "execution_count": 142,
   "metadata": {},
   "outputs": [],
   "source": [
    "def save_league_season_results(results, season_train, season_test):\n",
    "    path = f\"results/regression\"\n",
    "    file_name = f\"{season_train}-{season_test}.json\"\n",
    "\n",
    "    if not os.path.exists(path):\n",
    "        os.makedirs(path)\n",
    "\n",
    "    with open(f\"{path}/{file_name}\", 'w') as f:\n",
    "        json.dump(results, f, indent = 4, sort_keys = True, default = str)"
   ]
  },
  {
   "cell_type": "code",
   "execution_count": 188,
   "metadata": {},
   "outputs": [],
   "source": [
    "from sklearn.linear_model import LinearRegression \n",
    "from sklearn.preprocessing import PolynomialFeatures \n",
    "\n",
    "def train_linear_regression_model(dataset):\n",
    "    X = dataset.loc[:, features]\n",
    "    y = dataset[targets]\n",
    "    \n",
    "    poly_reg = PolynomialFeatures(4)\n",
    "    X_poly = poly_reg.fit_transform(X)\n",
    "    \n",
    "    model = LinearRegression()\n",
    "    \n",
    "    model.fit(X_poly, y)\n",
    "    \n",
    "    return model, poly_reg"
   ]
  },
  {
   "cell_type": "code",
   "execution_count": 189,
   "metadata": {},
   "outputs": [],
   "source": [
    "def predict(dataset_train, dataset_itr):\n",
    "    \n",
    "    model, poly_reg = train_linear_regression_model(dataset_train)\n",
    "\n",
    "    X = dataset_itr.loc[:, features]\n",
    "    X_poly = poly_reg.transform(X)\n",
    "    \n",
    "    predictions = model.predict(X_poly)\n",
    "    \n",
    "    return predictions"
   ]
  },
  {
   "cell_type": "code",
   "execution_count": 190,
   "metadata": {},
   "outputs": [],
   "source": [
    "def simulate(season):\n",
    "    print(f\"\\Simultating the results for season {season}...\")\n",
    "    \n",
    "    dataset_train = whole_dataset.loc[(whole_dataset['SEASON_ID'] >= first_season) & (whole_dataset['SEASON_ID'] < season)].reset_index(drop=True)\n",
    "    dataset_itr = whole_dataset.loc[whole_dataset['SEASON_ID'] == season].reset_index(drop=True)\n",
    "    \n",
    "    clear_output(wait=True)\n",
    "\n",
    "    print(f\"Season {season}/{last_season}\")\n",
    "\n",
    "    predictions = predict(dataset_train, dataset_itr)\n",
    "\n",
    "    result = simulate_by_model(predictions, dataset_itr)\n",
    "    result['seasons'] = f\"{first_season}-{season}\"\n",
    "        \n",
    "    save_league_season_results([result], first_season, season)\n",
    "        \n",
    "    return result\n"
   ]
  },
  {
   "cell_type": "code",
   "execution_count": 191,
   "metadata": {
    "scrolled": true
   },
   "outputs": [
    {
     "name": "stdout",
     "output_type": "stream",
     "text": [
      "Season 2021/2021\n"
     ]
    }
   ],
   "source": [
    "results = []\n",
    "\n",
    "for season in range(first_season + 1, last_season + 1):\n",
    "    results.append(simulate(season))"
   ]
  },
  {
   "cell_type": "code",
   "execution_count": 192,
   "metadata": {},
   "outputs": [],
   "source": [
    "results.sort(key=lambda x: x['results'][-1]['total_bankroll'], reverse=True)"
   ]
  },
  {
   "cell_type": "code",
   "execution_count": 193,
   "metadata": {},
   "outputs": [],
   "source": [
    "def print_bankroll_update(result):\n",
    "    won = result['results'][-1]['total_bankroll'] - bankroll\n",
    "    print(f\"\\nSeasons: {result['seasons']} // Accuracy: {round(result['strike_rate'], 2)}%\")\n",
    "    print(f\"Yield: {round(won*100/result['total_invested'], 2)}% // Bet Accuracy: {round(len([r for r in result['bets'] if r[2]])*100/len(result['bets']), 2)}% \\nBankroll: {round(result['results'][-1]['total_bankroll'], 2)} // Won: {round(won, 2)} // Margin: {round(100*won/bankroll, 2)}%\")\n",
    "    print(f\"Totals Accuracy: {round(result['totals_strike_rate'], 2)}%\")"
   ]
  },
  {
   "cell_type": "code",
   "execution_count": 194,
   "metadata": {},
   "outputs": [
    {
     "name": "stdout",
     "output_type": "stream",
     "text": [
      "\n",
      "Seasons: 2012-2016 // Accuracy: 52.79%\n",
      "Yield: 5.2% // Bet Accuracy: 39.86% \n",
      "Bankroll: 6670.0 // Won: 4670.0 // Margin: 233.5%\n",
      "Totals Accuracy: 51.3%\n",
      "\n",
      "Seasons: 2012-2015 // Accuracy: 53.49%\n",
      "Yield: -3.01% // Bet Accuracy: 35.99% \n",
      "Bankroll: 1390.0 // Won: -610.0 // Margin: -30.5%\n",
      "Totals Accuracy: 50.23%\n",
      "\n",
      "Seasons: 2012-2021 // Accuracy: 50.93%\n",
      "Yield: -4.14% // Bet Accuracy: 36.63% \n",
      "Bankroll: 1305.75 // Won: -694.25 // Margin: -34.71%\n",
      "Totals Accuracy: 47.01%\n",
      "\n",
      "Seasons: 2012-2018 // Accuracy: 52.61%\n",
      "Yield: -2.14% // Bet Accuracy: 37.13% \n",
      "Bankroll: 1279.0 // Won: -721.0 // Margin: -36.05%\n",
      "Totals Accuracy: 51.21%\n",
      "\n",
      "Seasons: 2012-2020 // Accuracy: 52.53%\n",
      "Yield: -6.84% // Bet Accuracy: 38.12% \n",
      "Bankroll: 907.5 // Won: -1092.5 // Margin: -54.62%\n",
      "Totals Accuracy: 48.79%\n",
      "\n",
      "Seasons: 2012-2014 // Accuracy: 53.26%\n",
      "Yield: -5.91% // Bet Accuracy: 35.96% \n",
      "Bankroll: 815.25 // Won: -1184.75 // Margin: -59.24%\n",
      "Totals Accuracy: 49.81%\n",
      "\n",
      "Seasons: 2012-2017 // Accuracy: 50.7%\n",
      "Yield: -8.96% // Bet Accuracy: 35.26% \n",
      "Bankroll: 499.0 // Won: -1501.0 // Margin: -75.05%\n",
      "Totals Accuracy: 50.7%\n",
      "\n",
      "Seasons: 2012-2019 // Accuracy: 47.68%\n",
      "Yield: -16.63% // Bet Accuracy: 31.95% \n",
      "Bankroll: 490.5 // Won: -1509.5 // Margin: -75.47%\n",
      "Totals Accuracy: 51.66%\n",
      "\n",
      "Seasons: 2012-2013 // Accuracy: 48.7%\n",
      "Yield: -10.7% // Bet Accuracy: 33.1% \n",
      "Bankroll: 478.5 // Won: -1521.5 // Margin: -76.08%\n",
      "Totals Accuracy: 50.65%\n"
     ]
    }
   ],
   "source": [
    "for r in results:\n",
    "    print_bankroll_update(r)"
   ]
  },
  {
   "cell_type": "code",
   "execution_count": 195,
   "metadata": {},
   "outputs": [],
   "source": [
    "# result_for_analysis = results[0]\n",
    "result_for_analysis = results[0]"
   ]
  },
  {
   "cell_type": "code",
   "execution_count": 196,
   "metadata": {},
   "outputs": [
    {
     "name": "stdout",
     "output_type": "stream",
     "text": [
      "{'H': 558, 'A': 516}\n"
     ]
    }
   ],
   "source": [
    "print(result_for_analysis['outcome_distribution'])"
   ]
  },
  {
   "cell_type": "code",
   "execution_count": 197,
   "metadata": {},
   "outputs": [
    {
     "name": "stdout",
     "output_type": "stream",
     "text": [
      "\n",
      "Plotting charts...\n"
     ]
    }
   ],
   "source": [
    "print('\\nPlotting charts...')\n",
    "\n",
    "models_tracking =  [np.array([x['total_bankroll'] for x in result_for_analysis['results']], dtype=np.float32)]\n",
    "\n",
    "money_by_date = np.array([[r['date'], r['total_bankroll']] for r in result_for_analysis['results']], dtype=str)\n",
    "correct_bets = list(filter(lambda x: x[2] == 1, result_for_analysis['bets']))\n",
    "missed_bets = list(filter(lambda x: x[2] == 0, result_for_analysis['bets']))\n",
    "correct_bets_odds = np.array(list(map(lambda x: x[1], correct_bets)))\n",
    "missed_bets_odds = np.array(list(map(lambda x: x[1], missed_bets)))\n",
    "correct_bets_home = np.array(list(map(lambda x: x[0], correct_bets)))\n",
    "missed_bets_home = np.array(list(map(lambda x: x[0], missed_bets)))\n",
    "\n",
    "money_by_team = dict(sorted(result_for_analysis['profit_by_team'].items(), key=lambda x: x[1]))\n",
    "money_by_team_labels = np.array(list(money_by_team.keys()), dtype=str)\n",
    "money_by_team_values = np.array(list(money_by_team.values()), dtype=np.float32)"
   ]
  },
  {
   "cell_type": "code",
   "execution_count": 198,
   "metadata": {
    "scrolled": false
   },
   "outputs": [
    {
     "data": {
      "image/png": "[encoded data removed]",
      "text/plain": [
       "<Figure size 432x288 with 1 Axes>"
      ]
     },
     "metadata": {
      "needs_background": "light"
     },
     "output_type": "display_data"
    },
    {
     "data": {
      "image/png": "[encoded data removed]",
      "text/plain": [
       "<Figure size 432x288 with 1 Axes>"
      ]
     },
     "metadata": {
      "needs_background": "light"
     },
     "output_type": "display_data"
    },
    {
     "data": {
      "image/png": "[encoded data removed]",
      "text/plain": [
       "<Figure size 432x288 with 1 Axes>"
      ]
     },
     "metadata": {},
     "output_type": "display_data"
    },
    {
     "data": {
      "image/png": "[encoded data removed]",
      "text/plain": [
       "<Figure size 432x288 with 1 Axes>"
      ]
     },
     "metadata": {},
     "output_type": "display_data"
    },
    {
     "data": {
      "image/png": "[encoded data removed]",
      "text/plain": [
       "<Figure size 432x288 with 1 Axes>"
      ]
     },
     "metadata": {
      "needs_background": "light"
     },
     "output_type": "display_data"
    }
   ],
   "source": [
    "plot_hist('Missed Bets by Odds', 'Odds', 'X Times', missed_bets_odds)\n",
    "\n",
    "plot_hist('Correct Bets by Odds', 'Odds', 'X Times', correct_bets_odds)\n",
    "\n",
    "plot_pie_chart('Correct Bets by Home-Away', ['Home', 'Away'], correct_bets_home)\n",
    "\n",
    "plot_pie_chart('Missed Bets by Home-Away', ['Home', 'Away'], missed_bets_home)\n",
    "\n",
    "plot_bar('Profit by Team', 'Teams', 'Profit', money_by_team_labels, money_by_team_values)"
   ]
  },
  {
   "cell_type": "code",
   "execution_count": 199,
   "metadata": {},
   "outputs": [
    {
     "data": {
      "image/png": "[encoded data removed]",
      "text/plain": [
       "<Figure size 432x288 with 1 Axes>"
      ]
     },
     "metadata": {
      "needs_background": "light"
     },
     "output_type": "display_data"
    }
   ],
   "source": [
    "xpoints = money_by_date[:, 0].astype(np.datetime64)\n",
    "\n",
    "plt.gca().xaxis.set_major_formatter(mdates.DateFormatter('%Y-%m-%d'))\n",
    "plt.gca().xaxis.set_major_locator(mdates.DayLocator(interval=15))\n",
    "for model in models_tracking:\n",
    "    plt.plot(xpoints, model)\n",
    "\n",
    "title = \"Profit by Date\"\n",
    "plt.ylabel(\"Profit($)\")\n",
    "plt.xlabel(\"Date\")\n",
    "plt.title(title)\n",
    "plt.gcf().autofmt_xdate()\n",
    "plt.savefig('charts/{}.png'.format(title.replace(' ','_').lower()), dpi=300)\n",
    "plt.show()"
   ]
  },
  {
   "cell_type": "code",
   "execution_count": null,
   "metadata": {},
   "outputs": [],
   "source": []
  }
 ],
 "metadata": {
  "kernelspec": {
   "display_name": "Python 3 (ipykernel)",
   "language": "python",
   "name": "python3"
  },
  "language_info": {
   "codemirror_mode": {
    "name": "ipython",
    "version": 3
   },
   "file_extension": ".py",
   "mimetype": "text/x-python",
   "name": "python",
   "nbconvert_exporter": "python",
   "pygments_lexer": "ipython3",
   "version": "3.9.12"
  }
 },
 "nbformat": 4,
 "nbformat_minor": 2
}
