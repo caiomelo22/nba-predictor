{
 "cells": [
  {
   "cell_type": "code",
   "execution_count": 413,
   "metadata": {},
   "outputs": [],
   "source": [
    "import sys  \n",
    "sys.path.insert(0, './machine_learning_models')\n",
    "\n",
    "from logistic_regression import logistic_regression\n",
    "from stochastic_gradient_descent import stochastic_gradient_descent\n",
    "from knn import knn\n",
    "from kernel_svm import kernel_svm\n",
    "from naive_bayes import naive_bayes\n",
    "from random_forest import random_forest\n",
    "from voting_classifier import voting_classifier\n",
    "from gradient_boosting import gradient_boosting\n",
    "import os\n",
    "import pandas as pd\n",
    "import numpy as np\n",
    "import matplotlib.pyplot as plt\n",
    "import datetime as dt\n",
    "import matplotlib.dates as mdates\n",
    "from sklearn.metrics import confusion_matrix, accuracy_score\n",
    "import pickle\n",
    "from IPython.display import clear_output\n",
    "from itertools import product, combinations\n",
    "import json\n",
    "from sklearn.preprocessing import StandardScaler"
   ]
  },
  {
   "cell_type": "code",
   "execution_count": 414,
   "metadata": {},
   "outputs": [],
   "source": [
    "league_id = 71 # Choose the league id\n",
    "\n",
    "season_file = '2008-2021'\n",
    "\n",
    "first_season = 2012\n",
    "last_season = 2021\n",
    "\n",
    "selected_columns = ['PTS_A', 'PTS_CON_A', 'FG_PCT_A', 'FG3_PCT_A', 'FT_PCT_A', 'REB_A', 'TOV_A', 'SEASON_A_PCT', 'PER_A', 'ELO_A', 'MATCHUP_A_PCT', 'HA_A_PCT', 'STREAK_A', 'LAST_GAMES_PCT_A', 'HA_LAST_GAMES_PCT_A', 'OFF_RTG_A', 'DEF_RTG_A',\n",
    "                    'PTS_B', 'PTS_CON_B', 'FG_PCT_B', 'FG3_PCT_B', 'FT_PCT_B', 'REB_B', 'TOV_B', 'SEASON_B_PCT', 'PER_B', 'ELO_B', 'MATCHUP_B_PCT', 'HA_B_PCT', 'STREAK_B', 'LAST_GAMES_PCT_B', 'HA_LAST_GAMES_PCT_B', 'OFF_RTG_B', 'DEF_RTG_B']\n",
    "\n",
    "min_threshold = 1.75\n",
    "max_threshold = 10\n",
    "\n",
    "num_model_combinations = 1\n",
    "\n",
    "first_attr_index = 7\n",
    "\n",
    "# default_stake = 50\n",
    "bankroll = 2000\n",
    "stake = 0.025"
   ]
  },
  {
   "cell_type": "code",
   "execution_count": 415,
   "metadata": {},
   "outputs": [
    {
     "name": "stdout",
     "output_type": "stream",
     "text": [
      "\n",
      "Getting data for the model...\n"
     ]
    }
   ],
   "source": [
    "print('\\nGetting data for the model...')\n",
    "\n",
    "season = \"{}-{}\".format(first_season, last_season)\n",
    "\n",
    "default_path = f'./leagues/{league_id}'\n",
    "whole_dataset = pd.read_csv('./data/{}.csv'.format(season_file))\n",
    "whole_dataset = whole_dataset.loc[(whole_dataset['ODDS_A'].notna()) & (whole_dataset['ODDS_B'].notna())]\n",
    "whole_dataset['GAME_DATE'] = pd.to_datetime(whole_dataset['GAME_DATE']).dt.date"
   ]
  },
  {
   "cell_type": "code",
   "execution_count": 416,
   "metadata": {
    "scrolled": true
   },
   "outputs": [
    {
     "data": {
      "text/html": [
       "<div>\n",
       "<style scoped>\n",
       "    .dataframe tbody tr th:only-of-type {\n",
       "        vertical-align: middle;\n",
       "    }\n",
       "\n",
       "    .dataframe tbody tr th {\n",
       "        vertical-align: top;\n",
       "    }\n",
       "\n",
       "    .dataframe thead th {\n",
       "        text-align: right;\n",
       "    }\n",
       "</style>\n",
       "<table border=\"1\" class=\"dataframe\">\n",
       "  <thead>\n",
       "    <tr style=\"text-align: right;\">\n",
       "      <th></th>\n",
       "      <th>Unnamed: 0</th>\n",
       "      <th>SEASON_ID</th>\n",
       "      <th>GAME_DATE</th>\n",
       "      <th>TEAM_A</th>\n",
       "      <th>TEAM_B</th>\n",
       "      <th>ODDS_A</th>\n",
       "      <th>ODDS_B</th>\n",
       "      <th>PTS_A</th>\n",
       "      <th>PTS_CON_A</th>\n",
       "      <th>FG_PCT_A</th>\n",
       "      <th>...</th>\n",
       "      <th>PER_B</th>\n",
       "      <th>ELO_B</th>\n",
       "      <th>MATCHUP_B_PCT</th>\n",
       "      <th>HA_B_PCT</th>\n",
       "      <th>STREAK_B</th>\n",
       "      <th>LAST_GAMES_PCT_B</th>\n",
       "      <th>HA_LAST_GAMES_PCT_B</th>\n",
       "      <th>OFF_RTG_B</th>\n",
       "      <th>DEF_RTG_B</th>\n",
       "      <th>WINNER</th>\n",
       "    </tr>\n",
       "  </thead>\n",
       "  <tbody>\n",
       "    <tr>\n",
       "      <th>14464</th>\n",
       "      <td>14464</td>\n",
       "      <td>2021</td>\n",
       "      <td>2022-04-10</td>\n",
       "      <td>NYK</td>\n",
       "      <td>TOR</td>\n",
       "      <td>1.96</td>\n",
       "      <td>1.89</td>\n",
       "      <td>110.1</td>\n",
       "      <td>106.6</td>\n",
       "      <td>0.4482</td>\n",
       "      <td>...</td>\n",
       "      <td>15.541340</td>\n",
       "      <td>1612.41</td>\n",
       "      <td>0.8</td>\n",
       "      <td>0.426210</td>\n",
       "      <td>-3</td>\n",
       "      <td>0.8</td>\n",
       "      <td>0.8</td>\n",
       "      <td>116.418296</td>\n",
       "      <td>116.418296</td>\n",
       "      <td>H</td>\n",
       "    </tr>\n",
       "    <tr>\n",
       "      <th>14465</th>\n",
       "      <td>14465</td>\n",
       "      <td>2021</td>\n",
       "      <td>2022-04-10</td>\n",
       "      <td>ORL</td>\n",
       "      <td>MIA</td>\n",
       "      <td>3.39</td>\n",
       "      <td>1.35</td>\n",
       "      <td>100.5</td>\n",
       "      <td>110.4</td>\n",
       "      <td>0.4216</td>\n",
       "      <td>...</td>\n",
       "      <td>27.693215</td>\n",
       "      <td>1621.58</td>\n",
       "      <td>0.8</td>\n",
       "      <td>0.466592</td>\n",
       "      <td>-6</td>\n",
       "      <td>0.6</td>\n",
       "      <td>0.8</td>\n",
       "      <td>116.439241</td>\n",
       "      <td>116.439241</td>\n",
       "      <td>H</td>\n",
       "    </tr>\n",
       "    <tr>\n",
       "      <th>14466</th>\n",
       "      <td>14466</td>\n",
       "      <td>2021</td>\n",
       "      <td>2022-04-10</td>\n",
       "      <td>PHI</td>\n",
       "      <td>DET</td>\n",
       "      <td>1.37</td>\n",
       "      <td>3.23</td>\n",
       "      <td>119.6</td>\n",
       "      <td>113.5</td>\n",
       "      <td>0.4942</td>\n",
       "      <td>...</td>\n",
       "      <td>15.774737</td>\n",
       "      <td>1358.60</td>\n",
       "      <td>0.2</td>\n",
       "      <td>0.389988</td>\n",
       "      <td>-2</td>\n",
       "      <td>0.4</td>\n",
       "      <td>0.6</td>\n",
       "      <td>108.780001</td>\n",
       "      <td>108.780001</td>\n",
       "      <td>H</td>\n",
       "    </tr>\n",
       "    <tr>\n",
       "      <th>14467</th>\n",
       "      <td>14467</td>\n",
       "      <td>2021</td>\n",
       "      <td>2022-04-10</td>\n",
       "      <td>PHX</td>\n",
       "      <td>SAC</td>\n",
       "      <td>1.19</td>\n",
       "      <td>5.14</td>\n",
       "      <td>116.4</td>\n",
       "      <td>114.4</td>\n",
       "      <td>0.4900</td>\n",
       "      <td>...</td>\n",
       "      <td>15.034677</td>\n",
       "      <td>1359.00</td>\n",
       "      <td>0.4</td>\n",
       "      <td>0.334146</td>\n",
       "      <td>-3</td>\n",
       "      <td>0.4</td>\n",
       "      <td>0.6</td>\n",
       "      <td>107.126278</td>\n",
       "      <td>107.126278</td>\n",
       "      <td>A</td>\n",
       "    </tr>\n",
       "    <tr>\n",
       "      <th>14468</th>\n",
       "      <td>14468</td>\n",
       "      <td>2021</td>\n",
       "      <td>2022-04-10</td>\n",
       "      <td>POR</td>\n",
       "      <td>UTA</td>\n",
       "      <td>10.90</td>\n",
       "      <td>1.06</td>\n",
       "      <td>100.7</td>\n",
       "      <td>122.0</td>\n",
       "      <td>0.4357</td>\n",
       "      <td>...</td>\n",
       "      <td>14.167984</td>\n",
       "      <td>1580.75</td>\n",
       "      <td>0.7</td>\n",
       "      <td>0.413349</td>\n",
       "      <td>-1</td>\n",
       "      <td>0.3</td>\n",
       "      <td>0.0</td>\n",
       "      <td>114.468630</td>\n",
       "      <td>114.468630</td>\n",
       "      <td>A</td>\n",
       "    </tr>\n",
       "  </tbody>\n",
       "</table>\n",
       "<p>5 rows × 42 columns</p>\n",
       "</div>"
      ],
      "text/plain": [
       "       Unnamed: 0  SEASON_ID   GAME_DATE TEAM_A TEAM_B  ODDS_A  ODDS_B  PTS_A  \\\n",
       "14464       14464       2021  2022-04-10    NYK    TOR    1.96    1.89  110.1   \n",
       "14465       14465       2021  2022-04-10    ORL    MIA    3.39    1.35  100.5   \n",
       "14466       14466       2021  2022-04-10    PHI    DET    1.37    3.23  119.6   \n",
       "14467       14467       2021  2022-04-10    PHX    SAC    1.19    5.14  116.4   \n",
       "14468       14468       2021  2022-04-10    POR    UTA   10.90    1.06  100.7   \n",
       "\n",
       "       PTS_CON_A  FG_PCT_A  ...      PER_B    ELO_B  MATCHUP_B_PCT  HA_B_PCT  \\\n",
       "14464      106.6    0.4482  ...  15.541340  1612.41            0.8  0.426210   \n",
       "14465      110.4    0.4216  ...  27.693215  1621.58            0.8  0.466592   \n",
       "14466      113.5    0.4942  ...  15.774737  1358.60            0.2  0.389988   \n",
       "14467      114.4    0.4900  ...  15.034677  1359.00            0.4  0.334146   \n",
       "14468      122.0    0.4357  ...  14.167984  1580.75            0.7  0.413349   \n",
       "\n",
       "       STREAK_B  LAST_GAMES_PCT_B  HA_LAST_GAMES_PCT_B   OFF_RTG_B  \\\n",
       "14464        -3               0.8                  0.8  116.418296   \n",
       "14465        -6               0.6                  0.8  116.439241   \n",
       "14466        -2               0.4                  0.6  108.780001   \n",
       "14467        -3               0.4                  0.6  107.126278   \n",
       "14468        -1               0.3                  0.0  114.468630   \n",
       "\n",
       "        DEF_RTG_B  WINNER  \n",
       "14464  116.418296       H  \n",
       "14465  116.439241       H  \n",
       "14466  108.780001       H  \n",
       "14467  107.126278       A  \n",
       "14468  114.468630       A  \n",
       "\n",
       "[5 rows x 42 columns]"
      ]
     },
     "execution_count": 416,
     "metadata": {},
     "output_type": "execute_result"
    }
   ],
   "source": [
    "whole_dataset.tail()"
   ]
  },
  {
   "cell_type": "code",
   "execution_count": 417,
   "metadata": {},
   "outputs": [],
   "source": [
    "def plot_chart(title, x_label, y_label):\n",
    "    plt.ylabel(y_label)\n",
    "    plt.xlabel(x_label)\n",
    "    plt.title(title)\n",
    "    \n",
    "    path = 'charts'\n",
    "    if not os.path.exists(path):\n",
    "        os.makedirs(path)\n",
    "    \n",
    "    plt.savefig(f\"{path}/{title.replace(' ','_').lower()}.png\", dpi=300)\n",
    "    plt.show()\n",
    "\n",
    "def plot_hist(title, x_label, y_label, data):\n",
    "    plt.hist(data, density=False, bins=20)  # density=False would make counts\n",
    "    plot_chart(title, x_label, y_label)\n",
    "    \n",
    "def plot_bar(title, x_label, y_label, x_data, y_data):\n",
    "    ax= plt.subplot()\n",
    "    plt.bar(x_data, y_data) \n",
    "    # plt.setp(ax.get_xticklabels(), rotation=30, ha='right')\n",
    "    plt.xticks(fontsize=10, rotation=90)\n",
    "    plot_chart(title, x_label, y_label)\n",
    "    \n",
    "def plot_pie_chart(title, labels, data):\n",
    "    try:\n",
    "        data_converted = np.unique(data, return_counts=True)[1]\n",
    "        plt.pie(data_converted, labels = labels, startangle = 90, shadow = True, autopct='%.2f%%')\n",
    "        plt.title(title)\n",
    "        plt.savefig('charts/{}.png'.format(title.replace(' ','_').lower()), dpi=300)\n",
    "        plt.show() \n",
    "    except Exception as e:\n",
    "        print(f'Error when trying to plot the pie chart: {e}')\n",
    "\n",
    "def check_bet_worth(prediction, odds_home, odds_away, pred_odds_home, pred_odds_away):\n",
    "    return ((prediction == 'H' and (pred_odds_home < odds_home) and (odds_home > min_threshold and odds_home < max_threshold)) or \n",
    "            (prediction == 'A' and (pred_odds_away < odds_away) and (odds_away > min_threshold and odds_away < max_threshold)))\n",
    "\n",
    "def check_model_performance_on_game(game, prediction, bet_value, pred_odds_home, pred_odds_away):\n",
    "    game_money = 0\n",
    "    \n",
    "    if check_bet_worth(prediction, game['ODDS_A'], game['ODDS_B'], pred_odds_home, pred_odds_away):\n",
    "        if game['WINNER'] == prediction and game['WINNER'] == 'H':\n",
    "            game_money = (bet_value*game['ODDS_A'] - bet_value)\n",
    "        elif game['WINNER'] == prediction and game['WINNER'] == 'A':\n",
    "            game_money = (bet_value*game['ODDS_B'] - bet_value)\n",
    "        else:\n",
    "            game_money = -bet_value\n",
    "    return game_money\n",
    "\n",
    "def check_game_with_odds(game, bet_value, pred_odds_home, pred_odds_away):\n",
    "    \n",
    "    prediction = 'A'\n",
    "    if game['ODDS_A'] > game['ODDS_B']:\n",
    "        prediction = 'H'\n",
    "    \n",
    "    return check_model_performance_on_game(game, prediction, bet_value, pred_odds_home, pred_odds_away)\n",
    "\n",
    "def get_bet_value(bankroll):\n",
    "    bankroll_baseline = round(bankroll / 1000, 0) * 1000\n",
    "    return stake * bankroll_baseline\n",
    "#     return default_stake\n",
    "\n",
    "def get_pred_odds(probs):\n",
    "    return 1/probs[0], 1/probs[1] # Away, Home"
   ]
  },
  {
   "cell_type": "code",
   "execution_count": 418,
   "metadata": {},
   "outputs": [],
   "source": [
    "def get_feature_correlation_matrix(dataset):\n",
    "    print('\\nGetting the feature correlation matrix...')\n",
    "\n",
    "    import seaborn as sns\n",
    "\n",
    "    try:\n",
    "        dependent_variables = dataset.iloc[:,first_attr_index:]\n",
    "        corrmat = dependent_variables.corr()\n",
    "        top_corr_features = corrmat.index\n",
    "        plt.figure(figsize=(13,13))\n",
    "        title = 'Feature Correlation'\n",
    "        plt.title(title)\n",
    "        #plot heat map\n",
    "        sns.set(font_scale=0.6)\n",
    "        g=sns.heatmap(dependent_variables.corr(),annot=True,cmap='Blues', fmt='0.1g')\n",
    "        plt.savefig('charts/{}.png'.format(title.replace(' ','_').lower()), dpi=300)\n",
    "        plt.show()\n",
    "    except:\n",
    "        print('No correlation matrix for the selected model.')"
   ]
  },
  {
   "cell_type": "code",
   "execution_count": 419,
   "metadata": {},
   "outputs": [],
   "source": [
    "def get_feature_importance(classifier):\n",
    "    feat_importances = pd.Series(classifier.feature_importances_, index=selected_columns)\n",
    "    feat_importances.nlargest(len(selected_columns)).plot(kind='barh')\n",
    "    title = 'Feature Importance'\n",
    "    plt.ylabel('Features')\n",
    "    plt.xlabel(\"Feature Importance\")\n",
    "    plt.title(title)\n",
    "    plt.savefig('charts/{}.png'.format(title.replace(' ','_').lower()), dpi=300)\n",
    "    plt.show()"
   ]
  },
  {
   "cell_type": "code",
   "execution_count": 420,
   "metadata": {},
   "outputs": [],
   "source": [
    "def train_lr_model(dataset):\n",
    "    logisticRegression = logistic_regression(dataset)\n",
    "    return logisticRegression[2]\n",
    "\n",
    "def train_sgd_model(dataset):\n",
    "    sgd = stochastic_gradient_descent(dataset)\n",
    "    return sgd[2]\n",
    "\n",
    "def train_knn_model(dataset):\n",
    "    knn_model = knn(dataset)\n",
    "    return knn_model[2]\n",
    "\n",
    "def train_svm_model(dataset):\n",
    "    svm = kernel_svm(dataset)\n",
    "    return svm[2]\n",
    "\n",
    "def train_nb_model(dataset):\n",
    "    nb = naive_bayes(dataset)\n",
    "    return nb[2]\n",
    "\n",
    "def train_gradient_boosting_model(dataset):\n",
    "    gb = gradient_boosting(dataset)\n",
    "    return gb[2]\n",
    "\n",
    "def train_rf_model(dataset):\n",
    "    rf = random_forest(dataset)\n",
    "    return rf[2]\n",
    "\n",
    "def get_models_names(indexes):\n",
    "    models = [\n",
    "        'Logistic Regression',\n",
    "        'Kernel SVM',\n",
    "        'Naive Bayes',\n",
    "        'Stochastic Gradient Descent',\n",
    "        'K Nearest Neighbors',\n",
    "        'Random Forest',\n",
    "        'Gradient Boosting'\n",
    "    ]\n",
    "    \n",
    "    return [models[i] for i in range(len(models)) if i in indexes]\n",
    "\n",
    "def train_voting_model(dataset, indexes):\n",
    "    estimators = []\n",
    "    \n",
    "    if 0 in indexes: estimators.append(('lr', train_lr_model(dataset)))\n",
    "    if 1 in indexes: estimators.append(('svm', train_svm_model(dataset))) \n",
    "    if 2 in indexes: estimators.append(('nb', train_nb_model(dataset))) \n",
    "    if 3 in indexes: estimators.append(('sgd', train_sgd_model(dataset)))\n",
    "    if 4 in indexes: estimators.append(('knn', train_knn_model(dataset)))\n",
    "    if 5 in indexes: estimators.append(('rf', train_rf_model(dataset)))\n",
    "    if 6 in indexes: estimators.append(('gb', train_gradient_boosting_model(dataset)))\n",
    "        \n",
    "    if len(estimators) == 1:\n",
    "        return estimators[0][1]\n",
    "\n",
    "    weights = [1] * len(estimators)\n",
    "    \n",
    "    vc = voting_classifier(dataset, estimators, weights)\n",
    "    return vc[2]\n"
   ]
  },
  {
   "cell_type": "code",
   "execution_count": 421,
   "metadata": {},
   "outputs": [],
   "source": [
    "def simulate_by_model(predictions, probs, dataset_itr, models):\n",
    "    money_by_date = []\n",
    "    bets = []\n",
    "    money_by_team = dict()\n",
    "    total_invested = 0\n",
    "    parlays = []\n",
    "    outcome_predictions = {'H': 0, 'A': 0}\n",
    "    strikes = 0\n",
    "    bets_df_columns = ['pred', 'actual', 'p_h_odds', 'p_a_odds', 'h_odds', 'a_odds']\n",
    "    bets_df_rows = []\n",
    "#     bets_df = pd.DataFrame(columns=['A','B','C','D','E','F','G'])\n",
    "\n",
    "    money_by_date.append({\n",
    "        'date': dataset_itr.iloc[0,2],\n",
    "        'date_profit': 0,\n",
    "        'total_bankroll': bankroll\n",
    "    })\n",
    "\n",
    "    for index, game in dataset_itr.iterrows():\n",
    "        # Next date\n",
    "        if game['GAME_DATE'] != money_by_date[-1]['date']:    \n",
    "            # Tracking built parlay\n",
    "            for parlay in parlays:\n",
    "#                 if parlay['parlay_odds'] >= 1.5:\n",
    "                bet_value = get_bet_value(money_by_date[-1]['total_bankroll'])\n",
    "                game_money_model = ((parlay['parlay_odds'] * bet_value) - bet_value) if parlay['parlay_won'] else -bet_value\n",
    "                total_invested += bet_value\n",
    "                money_by_date[-1]['date_profit'] += game_money_model\n",
    "                money_by_date[-1]['total_bankroll'] += game_money_model\n",
    "\n",
    "            parlays = []\n",
    "            money_by_date.append({\n",
    "                'date': game['GAME_DATE'],\n",
    "                'date_profit': 0,\n",
    "                'total_bankroll': money_by_date[-1]['total_bankroll']\n",
    "            })\n",
    "\n",
    "        if game['TEAM_A'] not in money_by_team:\n",
    "            money_by_team[game['TEAM_A']] = 0\n",
    "        if game['TEAM_B'] not in money_by_team:\n",
    "            money_by_team[game['TEAM_B']] = 0\n",
    "\n",
    "        prediction = predictions[index]\n",
    "        prediction_probs = probs[index]\n",
    "        \n",
    "        if prediction == game['WINNER']:\n",
    "            strikes += 1\n",
    "\n",
    "        if prediction_probs[0] == 1 or prediction_probs[0] == 0:\n",
    "            continue\n",
    "\n",
    "        game_money_model = 0\n",
    "        bet_value = get_bet_value(money_by_date[-1]['total_bankroll'])\n",
    "\n",
    "        pred_odds_away, pred_odds_home = get_pred_odds(prediction_probs)\n",
    "        game_money_model = check_model_performance_on_game(game, prediction, bet_value, pred_odds_home, pred_odds_away)\n",
    "        \n",
    "        bets_df_rows.append([prediction, game['WINNER'], pred_odds_home, pred_odds_away, game['ODDS_A'], game['ODDS_B']])\n",
    "\n",
    "        if game_money_model != 0:       \n",
    "            if game['WINNER'] == prediction and game['WINNER'] == 'H':\n",
    "                bets.append(['HOME', game['ODDS_A'], pred_odds_home, 1])\n",
    "                money_by_team[game['TEAM_A']] += game_money_model\n",
    "            elif game['WINNER'] == prediction and game['WINNER'] == 'A':\n",
    "                bets.append(['AWAY', game['ODDS_B'], pred_odds_away, 1])\n",
    "                money_by_team[game['TEAM_B']] += game_money_model\n",
    "            else:\n",
    "                if prediction == 'H':\n",
    "                    bets.append(['HOME', game['ODDS_A'], pred_odds_home, 0])\n",
    "                    money_by_team[game['TEAM_A']] += game_money_model\n",
    "                else:\n",
    "                    bets.append(['AWAY', game['ODDS_B'], pred_odds_away, 0])\n",
    "                    money_by_team[game['TEAM_B']] += game_money_model\n",
    "\n",
    "            total_invested += bet_value\n",
    "#         else:\n",
    "#             if not len(parlays) or parlays[-1]['parlay_odds'] > 1.75 or len(parlays[-1]['parlay_matches']) > 2:\n",
    "#                 parlays.append({\n",
    "#                     'parlay_odds': 0,\n",
    "#                     'parlay_won': True,\n",
    "#                     'parlay_matches': []\n",
    "#                 })\n",
    "            \n",
    "#             odds = game['ODDS_A'] if prediction == 'H' else game['ODDS_B']\n",
    "#             parlays[-1]['parlay_odds'] = odds * parlays[-1]['parlay_odds'] if parlays[-1]['parlay_odds'] > 0 else odds # Parlay odds\n",
    "#             parlays[-1]['parlay_matches'].append(f\"{game['TEAM_A']} ({game['ODDS_A']}) x ({game['ODDS_B']}) {game['TEAM_B']}\") # Parlay match counter\n",
    "            \n",
    "#         if game_money_model == 0 and prediction != game['WINNER']:\n",
    "#             parlays[-1]['parlay_won'] = False \n",
    "\n",
    "        outcome_predictions[prediction] += 1\n",
    "\n",
    "#         print(f\"\\nGAME DATE: {game['GAME_DATE']}\")\n",
    "#         print(f\"GAME OUTCOME: {game['OUTCOME']}\")\n",
    "#         print(f\"PREDICTED OUTCOME: {prediction}\")\n",
    "#         print(f\"GAME: {game['HOME_TEAM']} ({game['HOME_ODDS']}) x ({game['AWAY_ODDS']}) {game['AWAY_TEAM']}\")\n",
    "\n",
    "        money_by_date[-1]['date_profit'] += game_money_model\n",
    "        money_by_date[-1]['total_bankroll'] += game_money_model\n",
    "        \n",
    "    return {\n",
    "        'models': models,\n",
    "        'results': money_by_date,\n",
    "        'outcome_distribution': outcome_predictions,\n",
    "        'bets': bets,\n",
    "        'profit_by_team': money_by_team,\n",
    "        'total_invested': total_invested,\n",
    "        'strike_rate': strikes * 100 / len(dataset_itr.index),\n",
    "        'bets_df': pd.DataFrame(bets_df_rows, columns=bets_df_columns)\n",
    "    }\n"
   ]
  },
  {
   "cell_type": "code",
   "execution_count": 422,
   "metadata": {},
   "outputs": [],
   "source": [
    "def save_league_season_results(results, season_train, season_test):\n",
    "    path = f\"results/{num_model_combinations}-models\"\n",
    "    file_name = f\"{season_train}-{season_test}.json\"\n",
    "\n",
    "    if not os.path.exists(path):\n",
    "        os.makedirs(path)\n",
    "\n",
    "    with open(f\"{path}/{file_name}\", 'w') as f:\n",
    "        json.dump(results, f, indent = 4, sort_keys = True, default = str)"
   ]
  },
  {
   "cell_type": "code",
   "execution_count": 423,
   "metadata": {},
   "outputs": [],
   "source": [
    "def predict(dataset_train, dataset_itr, model_indexes):\n",
    "    dataset_train_filtered = dataset_train[selected_columns + ['WINNER']]\n",
    "    X_train = dataset_train[selected_columns].values\n",
    "    X = dataset_itr[selected_columns].values\n",
    "    \n",
    "    y = dataset_itr[['WINNER']].values\n",
    "    \n",
    "    sc_train = StandardScaler()\n",
    "    sc_train.fit(X_train)\n",
    "    X_transformed = sc_train.transform(X)\n",
    "    \n",
    "    classifier = train_voting_model(dataset_train_filtered, model_indexes)\n",
    "\n",
    "    predictions = classifier.predict(X_transformed)\n",
    "    probs = classifier.predict_proba(X_transformed)\n",
    "    \n",
    "    return predictions, probs"
   ]
  },
  {
   "cell_type": "code",
   "execution_count": 424,
   "metadata": {},
   "outputs": [],
   "source": [
    "def simulate(season):\n",
    "    print(f\"\\Simultating the results for season {season}...\")\n",
    "    \n",
    "    dataset_train = whole_dataset.loc[(whole_dataset['SEASON_ID'] >= first_season) & (whole_dataset['SEASON_ID'] < season)].reset_index(drop=True)\n",
    "    dataset_itr = whole_dataset.loc[whole_dataset['SEASON_ID'] == season].reset_index(drop=True)\n",
    "    # dataset_filtered = dataset.loc[dataset['GAME_DATE'] > dt.date(2022, 8, 25)]\n",
    "    \n",
    "    models = list(range(7))\n",
    "    model_combinations = list(set(list(combinations(models, num_model_combinations))))\n",
    "    model_combinations = [[5,6], [1,4]]\n",
    "    \n",
    "    season_results = []\n",
    "    \n",
    "    for i in range(len(model_combinations)):\n",
    "        clear_output(wait=True)\n",
    "        \n",
    "        models = get_models_names(model_combinations[i])\n",
    "        \n",
    "        print(f\"Season {season}/{last_season} \\nModel Combination {i+1}/{len(model_combinations)} \\nModels: {models}\")\n",
    "        \n",
    "        predictions, probs = predict(dataset_train, dataset_itr, model_combinations[i])\n",
    "        \n",
    "        result = simulate_by_model(predictions, probs, dataset_itr, models)\n",
    "        result['seasons'] = f\"{first_season}-{season}\"\n",
    "        season_results.append(result)\n",
    "        \n",
    "        if str(models) not in profit_by_model:\n",
    "            profit_by_model[str(models)] = []\n",
    "        \n",
    "        profit_by_model[str(models)].append(result)\n",
    "        \n",
    "    save_league_season_results(season_results, first_season, season)\n",
    "        \n",
    "    return season_results\n"
   ]
  },
  {
   "cell_type": "code",
   "execution_count": 425,
   "metadata": {
    "scrolled": true
   },
   "outputs": [
    {
     "name": "stdout",
     "output_type": "stream",
     "text": [
      "Season 2021/2021 \n",
      "Model Combination 2/2 \n",
      "Models: ['Kernel SVM', 'K Nearest Neighbors']\n"
     ]
    }
   ],
   "source": [
    "results = []\n",
    "\n",
    "profit_by_model = dict()\n",
    "\n",
    "for season in range(first_season + 1, last_season + 1):\n",
    "    results.extend(simulate(season))"
   ]
  },
  {
   "cell_type": "code",
   "execution_count": 426,
   "metadata": {},
   "outputs": [],
   "source": [
    "def print_bankroll_update(result):\n",
    "    won = result['results'][-1]['total_bankroll'] - bankroll\n",
    "    print(f\"\\nSeasons: {result['seasons']} // Accuracy: {round(result['strike_rate'], 2)}%\")\n",
    "    print(f\"Yield: {round(won*100/result['total_invested'], 2)}% // Bet Accuracy: {round(len([r for r in result['bets'] if r[3]])*100/len(result['bets']), 2)}% \\nBankroll: {round(result['results'][-1]['total_bankroll'], 2)} // Won: {round(won, 2)} // Margin: {round(100*won/bankroll, 2)}%\")"
   ]
  },
  {
   "cell_type": "code",
   "execution_count": 427,
   "metadata": {},
   "outputs": [
    {
     "name": "stdout",
     "output_type": "stream",
     "text": [
      "\n",
      "Models: ['Random Forest', 'Gradient Boosting']\n",
      "Models bankroll mean: 1818.611111111111\n",
      "Models yield mean: -2.67%\n",
      "Models model accuracy mean: 66.05%\n",
      "Models betting accuracy mean: 45.54%\n",
      "\n",
      "Models: ['Kernel SVM', 'K Nearest Neighbors']\n",
      "Models bankroll mean: 1926.9444444444443\n",
      "Models yield mean: -2.14%\n",
      "Models model accuracy mean: 65.04%\n",
      "Models betting accuracy mean: 44.43%\n"
     ]
    }
   ],
   "source": [
    "results.sort(key=lambda x: x['results'][-1]['total_bankroll'], reverse=True)\n",
    "for m in profit_by_model:\n",
    "    model_sum = sum([r['results'][-1]['total_bankroll'] for r in profit_by_model[m]])\n",
    "    model_yield_sum = sum([(r['results'][-1]['total_bankroll'] - bankroll)*100/r['total_invested'] for r in profit_by_model[m]])\n",
    "    model_bet_acc_sum = sum([len([r for r in result['bets'] if r[3]])*100/len(result['bets']) for result in profit_by_model[m]])\n",
    "    model_acc_sum = sum([result['strike_rate'] for result in profit_by_model[m]])\n",
    "    \n",
    "    model_bankroll_mean = model_sum/len(profit_by_model[m])\n",
    "    model_yield_mean = round(model_yield_sum/len(profit_by_model[m]), 2)\n",
    "    model_bet_acc_mean = round(model_bet_acc_sum/len(profit_by_model[m]), 2)\n",
    "    model_acc_mean = round(model_acc_sum/len(profit_by_model[m]), 2)\n",
    "    \n",
    "#     if model_bankroll_mean < bankroll:\n",
    "#         continue\n",
    "    \n",
    "    print(f'\\nModels: {m}')\n",
    "    print(f'Models bankroll mean: {model_bankroll_mean}')\n",
    "    print(f'Models yield mean: {model_yield_mean}%')\n",
    "    print(f'Models model accuracy mean: {model_acc_mean}%')\n",
    "    print(f'Models betting accuracy mean: {model_bet_acc_mean}%')\n",
    "#     [print_bankroll_update(r) for r in profit_by_model[m]]"
   ]
  },
  {
   "cell_type": "code",
   "execution_count": 428,
   "metadata": {},
   "outputs": [
    {
     "data": {
      "image/png": "[encoded data removed]",
      "text/plain": [
       "<Figure size 432x288 with 1 Axes>"
      ]
     },
     "metadata": {
      "needs_background": "light"
     },
     "output_type": "display_data"
    }
   ],
   "source": [
    "feature_importance_dataset = whole_dataset.loc[(whole_dataset['SEASON_ID'] >= first_season) & (whole_dataset['SEASON_ID'] < int(results[0]['seasons'].split('-')[1]))].reset_index(drop=True)\n",
    "feature_importance_classifier = train_rf_model(feature_importance_dataset[selected_columns + ['WINNER']])\n",
    "get_feature_importance(feature_importance_classifier)"
   ]
  },
  {
   "cell_type": "code",
   "execution_count": 429,
   "metadata": {},
   "outputs": [],
   "source": [
    "# result_for_analysis = results[0]\n",
    "result_for_analysis = profit_by_model[\"['Random Forest', 'Gradient Boosting']\"][7]"
   ]
  },
  {
   "cell_type": "code",
   "execution_count": 430,
   "metadata": {},
   "outputs": [
    {
     "name": "stdout",
     "output_type": "stream",
     "text": [
      "1.7385137574305016\n",
      "134\n"
     ]
    }
   ],
   "source": [
    "bets_df = result_for_analysis['bets_df']\n",
    "bets_df['chosen_odds'] = bets_df.apply (lambda row: row['h_odds'] if row['pred'] == 'H' else row['a_odds'], axis=1)\n",
    "bets_df['p_chosen_odds'] = bets_df.apply (lambda row: row['p_h_odds'] if row['pred'] == 'H' else row['p_a_odds'], axis=1)\n",
    "filtered_bets = bets_df.loc[(bets_df['pred'] != bets_df['actual']) & (bets_df['chosen_odds'] > min_threshold) & (bets_df['chosen_odds'] < max_threshold)]\n",
    "print(filtered_bets['p_chosen_odds'].mean())\n",
    "print(len(filtered_bets.index))\n",
    "# for index, row in filtered_bets.iterrows():\n",
    "#     print(f\"\\nPred: {row['pred']} \\nActual: {row['actual']} \\nP_Odds: {row['p_chosen_odds']} \\nOdds: {row['chosen_odds']}\")"
   ]
  },
  {
   "cell_type": "code",
   "execution_count": 431,
   "metadata": {},
   "outputs": [
    {
     "name": "stdout",
     "output_type": "stream",
     "text": [
      "{'H': 617, 'A': 293}\n"
     ]
    }
   ],
   "source": [
    "print(result_for_analysis['outcome_distribution'])"
   ]
  },
  {
   "cell_type": "code",
   "execution_count": 432,
   "metadata": {},
   "outputs": [
    {
     "name": "stdout",
     "output_type": "stream",
     "text": [
      "\n",
      "Plotting charts...\n"
     ]
    }
   ],
   "source": [
    "print('\\nPlotting charts...')\n",
    "\n",
    "models_tracking =  [np.array([x['total_bankroll'] for x in result_for_analysis['results']], dtype=np.float32)]\n",
    "\n",
    "money_by_date = np.array([[r['date'], r['total_bankroll']] for r in result_for_analysis['results']], dtype=str)\n",
    "correct_bets = list(filter(lambda x: x[3] == 1, result_for_analysis['bets']))\n",
    "missed_bets = list(filter(lambda x: x[3] == 0, result_for_analysis['bets']))\n",
    "correct_bets_odds = np.array(list(map(lambda x: x[1], correct_bets)))\n",
    "missed_bets_odds = np.array(list(map(lambda x: x[1], missed_bets)))\n",
    "correct_bets_home = np.array(list(map(lambda x: x[0], correct_bets)))\n",
    "missed_bets_home = np.array(list(map(lambda x: x[0], missed_bets)))\n",
    "\n",
    "money_by_team = dict(sorted(result_for_analysis['profit_by_team'].items(), key=lambda x: x[1]))\n",
    "money_by_team_labels = np.array(list(money_by_team.keys()), dtype=str)\n",
    "money_by_team_values = np.array(list(money_by_team.values()), dtype=np.float32)"
   ]
  },
  {
   "cell_type": "code",
   "execution_count": 433,
   "metadata": {
    "scrolled": false
   },
   "outputs": [
    {
     "data": {
      "image/png": "[encoded data removed]",
      "text/plain": [
       "<Figure size 432x288 with 1 Axes>"
      ]
     },
     "metadata": {
      "needs_background": "light"
     },
     "output_type": "display_data"
    },
    {
     "data": {
      "image/png": "[encoded data removed]",
      "text/plain": [
       "<Figure size 432x288 with 1 Axes>"
      ]
     },
     "metadata": {
      "needs_background": "light"
     },
     "output_type": "display_data"
    },
    {
     "data": {
      "image/png": "[encoded data removed]",
      "text/plain": [
       "<Figure size 432x288 with 1 Axes>"
      ]
     },
     "metadata": {},
     "output_type": "display_data"
    },
    {
     "data": {
      "image/png": "[encoded data removed]",
      "text/plain": [
       "<Figure size 432x288 with 1 Axes>"
      ]
     },
     "metadata": {},
     "output_type": "display_data"
    },
    {
     "data": {
      "image/png": "[encoded data removed]",
      "text/plain": [
       "<Figure size 432x288 with 1 Axes>"
      ]
     },
     "metadata": {
      "needs_background": "light"
     },
     "output_type": "display_data"
    }
   ],
   "source": [
    "plot_hist('Missed Bets by Odds', 'Odds', 'X Times', missed_bets_odds)\n",
    "\n",
    "plot_hist('Correct Bets by Odds', 'Odds', 'X Times', correct_bets_odds)\n",
    "\n",
    "plot_pie_chart('Correct Bets by Home-Away', ['Home', 'Away'], correct_bets_home)\n",
    "\n",
    "plot_pie_chart('Missed Bets by Home-Away', ['Home', 'Away'], missed_bets_home)\n",
    "\n",
    "plot_bar('Profit by Team', 'Teams', 'Profit', money_by_team_labels, money_by_team_values)"
   ]
  },
  {
   "cell_type": "code",
   "execution_count": 434,
   "metadata": {},
   "outputs": [
    {
     "data": {
      "image/png": "[encoded data removed]",
      "text/plain": [
       "<Figure size 432x288 with 1 Axes>"
      ]
     },
     "metadata": {
      "needs_background": "light"
     },
     "output_type": "display_data"
    }
   ],
   "source": [
    "xpoints = money_by_date[:, 0].astype(np.datetime64)\n",
    "\n",
    "plt.gca().xaxis.set_major_formatter(mdates.DateFormatter('%Y-%m-%d'))\n",
    "plt.gca().xaxis.set_major_locator(mdates.DayLocator(interval=15))\n",
    "for model in models_tracking:\n",
    "    plt.plot(xpoints, model)\n",
    "\n",
    "title = \"Profit by Date\"\n",
    "plt.legend([result_for_analysis['models']], loc=(1.04,0))\n",
    "plt.ylabel(\"Profit($)\")\n",
    "plt.xlabel(\"Date\")\n",
    "plt.title(title)\n",
    "plt.gcf().autofmt_xdate()\n",
    "plt.savefig('charts/{}.png'.format(title.replace(' ','_').lower()), dpi=300)\n",
    "plt.show()"
   ]
  },
  {
   "cell_type": "code",
   "execution_count": null,
   "metadata": {},
   "outputs": [],
   "source": []
  }
 ],
 "metadata": {
  "kernelspec": {
   "display_name": "Python 3 (ipykernel)",
   "language": "python",
   "name": "python3"
  },
  "language_info": {
   "codemirror_mode": {
    "name": "ipython",
    "version": 3
   },
   "file_extension": ".py",
   "mimetype": "text/x-python",
   "name": "python",
   "nbconvert_exporter": "python",
   "pygments_lexer": "ipython3",
   "version": "3.9.12"
  }
 },
 "nbformat": 4,
 "nbformat_minor": 2
}
