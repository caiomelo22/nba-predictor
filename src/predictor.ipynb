{
 "cells": [
  {
   "cell_type": "code",
   "execution_count": null,
   "id": "b4810227",
   "metadata": {},
   "outputs": [],
   "source": [
    "from nba_api.stats.endpoints import leaguegamelog\n",
    "import matplotlib.pyplot as plt\n",
    "import numpy as np\n",
    "import pandas as pd\n",
    "from termcolor import colored\n",
    "import requests\n",
    "import mysql.connector\n",
    "import csv_getters.helper_functions as hf\n",
    "from csv_getters.config import api_basketball_key, conn_host, conn_database, conn_user, conn_password\n",
    "import datetime as dt\n",
    "from IPython.display import clear_output\n",
    "from dateutil import tz\n",
    "import json\n",
    "import time\n",
    "from nba_api.stats.static import teams \n",
    "from webdriver_manager.chrome import ChromeDriverManager\n",
    "from bs4 import BeautifulSoup as soup\n",
    "from selenium.webdriver.chrome.options import Options\n",
    "from selenium import webdriver\n",
    "from statistics import mean\n",
    "import urllib.request"
   ]
  },
  {
   "cell_type": "code",
   "execution_count": null,
   "id": "a5306bd6",
   "metadata": {},
   "outputs": [],
   "source": [
    "season = '2022-2023'\n",
    "season_split = int(season.split('-')[0])\n",
    "now =  time.time()\n",
    "date = dt.datetime.now().strftime('%Y-%m-%d')\n",
    "\n",
    "min_threshold = 1.8\n",
    "max_threshold = 10\n",
    "\n",
    "totals_max_threshold = 55\n",
    "totals_min_threshold = 45\n",
    "\n",
    "min_games = 8\n",
    "totals_n_last_games = 15\n",
    "n_last_games = 10\n",
    "n_last_specific_games = 5\n",
    "\n",
    "from_zone = tz.gettz('UTC')\n",
    "to_zone = tz.gettz('America/Sao_Paulo')\n",
    "\n",
    "pd.options.mode.chained_assignment = None  # default='warn'"
   ]
  },
  {
   "cell_type": "code",
   "execution_count": null,
   "id": "ef01085f",
   "metadata": {},
   "outputs": [],
   "source": []
  }
 ],
 "metadata": {
  "kernelspec": {
   "display_name": "Python 3 (ipykernel)",
   "language": "python",
   "name": "python3"
  },
  "language_info": {
   "codemirror_mode": {
    "name": "ipython",
    "version": 3
   },
   "file_extension": ".py",
   "mimetype": "text/x-python",
   "name": "python",
   "nbconvert_exporter": "python",
   "pygments_lexer": "ipython3",
   "version": "3.9.12"
  }
 },
 "nbformat": 4,
 "nbformat_minor": 5
}
